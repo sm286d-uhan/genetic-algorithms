{
 "cells": [
  {
   "cell_type": "markdown",
   "metadata": {
    "hide_cell": true
   },
   "source": [
    "<span class='note'><i>Make me look good.</i> Click on the cell below and press <kbd>Ctrl</kbd>+<kbd>Enter</kbd>.</span>"
   ]
  },
  {
   "cell_type": "code",
   "execution_count": 1,
   "metadata": {
    "hide_cell": true
   },
   "outputs": [
    {
     "data": {
      "text/html": [
       "<link href='http://fonts.googleapis.com/css?family=Lora:400,700,400i,700i' rel='stylesheet'>\n",
       "<link href='https://fonts.googleapis.com/css?family=Lato:300,400,700,300i,400i,700i' rel='stylesheet'>\n",
       "<link href='https://fonts.googleapis.com/css?family=Inconsolata:400' rel='stylesheet'>\n",
       "<link rel=\"stylesheet\" href=\"http://maxcdn.bootstrapcdn.com/font-awesome/4.3.0/css/font-awesome.min.css\">\n",
       "<style>\n",
       "    h1, h2, h3, h4, h5 {\n",
       "        font-family: 'Lato', sans-serif;\n",
       "    }\n",
       "    h5 {\n",
       "        font-style: normal;\n",
       "    }\n",
       "    kbd {\n",
       "        font-family: Lato, serif;\n",
       "    }\n",
       "    hr {\n",
       "      border-width: 2px;\n",
       "      border-color: #a9a9a9;\n",
       "    }\n",
       "    .cite {\n",
       "        font-size: 85%;\n",
       "        text-align: right;\n",
       "        margin-top: 10px;\n",
       "    }\n",
       "    .note {\n",
       "        font-family: Lora, serif;\n",
       "        font-size: 10pt;\n",
       "        font-weight: 400;\n",
       "        margin-top: 0;\n",
       "        margin-bottom: 0;\n",
       "    }\n",
       "    h5.prehead {\n",
       "        font-family: Lato, serif;\n",
       "        font-style: normal;\n",
       "        font-size: 13pt;\n",
       "        font-weight: 300;\n",
       "        margin-bottom: 15px;\n",
       "        margin-top: 30px;\n",
       "    }\n",
       "    h5.lesson {\n",
       "        font-family: Lato, serif;\n",
       "        font-weight: 400;\n",
       "        font-size: 15pt;\n",
       "        font-style: normal;\n",
       "        margin-top: 0px;\n",
       "        margin-bottom: 5px;\n",
       "    }\n",
       "    h1.lesson_title {\n",
       "        font-family: Lato, serif;\n",
       "        font-weight: 300;\n",
       "        font-size: 32pt;\n",
       "        line-height: 110%;\n",
       "        color:#CD2305;\n",
       "        margin-top: 0px;\n",
       "        margin-bottom: 15px;\n",
       "    }\n",
       "    div.cell{\n",
       "        max-width: 960px;\n",
       "        margin-left: auto;\n",
       "        margin-right: auto;\n",
       "    }\n",
       "    div.text_cell_render {\n",
       "        font-family: Lora, serif;\n",
       "        line-height: 160%;\n",
       "        font-size: 11pt;\n",
       "    }\n",
       "    .rendered_html pre, .rendered_html code  {\n",
       "        font-family: Inconsolata, monospace !important;\n",
       "        font-size: 11pt;\n",
       "    }\n",
       "    div.CodeMirror, div.output_area pre, div.prompt {\n",
       "        font-family: Inconsolata, monospace !important;\n",
       "        font-size: 110%;\n",
       "    }\n",
       "    .rendered_html ul li {\n",
       "        margin-top: 0.75em;\n",
       "        margin-bottom: 0.75em;\n",
       "    }\n",
       "    .rendered_html ul li ul li {\n",
       "        margin-top: 0.5em;\n",
       "        margin-bottom: 0.5em;\n",
       "    }\n",
       "    .rred {\n",
       "        color: #a00000;\n",
       "    }\n",
       "</style>\n",
       "<script>\n",
       "    MathJax.Hub.Config({\n",
       "                        TeX: {\n",
       "                           extensions: [\"AMSmath.js\"]\n",
       "                           },\n",
       "                tex2jax: {\n",
       "                    inlineMath: [ ['$','$'], [\"\\\\(\",\"\\\\)\"] ],\n",
       "                    displayMath: [ ['$$','$$'], [\"\\\\[\",\"\\\\]\"] ]\n",
       "                },\n",
       "                displayAlign: 'center', // Change this to 'center' to center equations.\n",
       "                \"HTML-CSS\": {\n",
       "                    styles: {'.MathJax_Display': {\"margin\": \"0.75em 0\"}}\n",
       "                }\n",
       "        });\n",
       "</script>\n"
      ],
      "text/plain": [
       "<IPython.core.display.HTML object>"
      ]
     },
     "execution_count": 1,
     "metadata": {},
     "output_type": "execute_result"
    }
   ],
   "source": [
    "from IPython.core.display import HTML\n",
    "HTML(open('css/custom.css', 'r').read())"
   ]
  },
  {
   "cell_type": "markdown",
   "metadata": {
    "hide_cell": true
   },
   "source": [
    "<h5 class='prehead'>SM286D &middot; Introduction to Applied Mathematics with Python &middot; Spring 2020 &middot; Uhan</h5>\n",
    "\n",
    "<h5 class='lesson'>Lesson 17.</h5>\n",
    "\n",
    "<h1 class='lesson_title'>Genetic algorithms with Python</h1>"
   ]
  },
  {
   "cell_type": "markdown",
   "metadata": {},
   "source": [
    "## This lesson..."
   ]
  },
  {
   "cell_type": "markdown",
   "metadata": {},
   "source": [
    "- Implementing a __genetic algorithm__ in Python."
   ]
  },
  {
   "cell_type": "markdown",
   "metadata": {},
   "source": [
    "---"
   ]
  },
  {
   "cell_type": "markdown",
   "metadata": {},
   "source": [
    "## What is a genetic algorithm?"
   ]
  },
  {
   "cell_type": "markdown",
   "metadata": {},
   "source": [
    "A __genetic algorithm (GA)__ is a type of algorithm for optimization problems, inspired by evolutionary biology. A GA tries to mimic the evolutionary process:\n",
    "\n",
    " - we start with a population of parents, \n",
    " - we mate certain parents to produce a child, \n",
    " - the child develops into a fully fledged adult, and \n",
    " - the child may replace a less fit parent in the collection of parents. \n",
    " - This process proceeds for many generations and ends with at least one very fit parent in the collection of parents. \n",
    "\n",
    "How does this work for an optimization problem? We want to find a solution that minimizes a certain objective function or __fitness function__. Each __parent__ will correspond to a solution to our optimization problem. The value of the fitness function for the parent is the parent's __score__. \n",
    "\n",
    "We start a generation by pairing up the parents. Each pair of parents will __mate__ to produce a new solution to our optimization problem, which we call a __child__. We \"grow\" the child into an adult by repeatedly modifying the child solution slightly and keeping the change if the child's score gets better. \n",
    "\n",
    "After a set number of such __local modifications__, we compare the child to its parents and replace one parent with the child if the child's score is better; otherwise we discard the child. A generation ends when each child has entered the parent pool or been discarded. We repeat the process for a set number of generations. \n",
    "\n",
    "This process involves many choices: we choose how the parent solutions combine to make a child input, we choose the fitness function, we choose the number of local modifications to the child, the types of local modifications allowed, the number of generations, and the number of parents. This approach is very flexible \n",
    "and not particularly tied to biology: one can incorporate or ignore the sex of parents, you could require three (or just one) parent to produce a child, etc. "
   ]
  },
  {
   "cell_type": "markdown",
   "metadata": {},
   "source": [
    "Note that in general, genetic algorithms are __heuristics__: they produce solutions that are only approximatley optimal, usually without any guarantee of how close they are to optimal. This seems unsatsifying, but for very hard optimization problems, this might be the best we can do."
   ]
  },
  {
   "cell_type": "markdown",
   "metadata": {},
   "source": [
    "## The shortest path problem"
   ]
  },
  {
   "cell_type": "markdown",
   "metadata": {},
   "source": [
    "We're going to create a genetic algorithm that finds the shortest path between two particular vertices in a graph. We've chosen this problem because (1) it is relatively easy to understand and (2) there exist fast exact algorithms so we can assess the quality of the solutions produced by our genetic algorithm.\n",
    "\n",
    "We start with a graph $G$ with $n$ vertices or nodes. We assume that each vertex is connected to _all_ the other vertices by an edge.  This is known as a __complete graph__. \n",
    "\n",
    "The distances along each edge $(i,j)$ are stored in an $n \\times n$ matrix $d$. We assume that $d_{ii} = 0$ for all $i$: the distance \n",
    "from a vertex to itself is zero. In addition, we assume that $d_{ij} = d_{ji} > 0$ if $i\\neq j$: the distance for an edge is the same in both directions, and all distances between distinct nodes are positive. \n",
    "\n",
    "We fix a source node $s$ and a terminal node $t$. \n",
    "An __$s$-$t$ path__ is a sequence of vertices starting with the source node $s$ and ending at the terminal node $t$.\n",
    "The __total distance__ of an $s$-$t$ path is the sum of the distances along each edge in the path.\n",
    "We want to find the $s$-$t$ path with the lowest total distance."
   ]
  },
  {
   "cell_type": "markdown",
   "metadata": {},
   "source": [
    "## A genetic algorithm for the shortest path problem"
   ]
  },
  {
   "cell_type": "markdown",
   "metadata": {},
   "source": [
    "How can we set up a genetic algorithm for the shortest path problem?"
   ]
  },
  {
   "cell_type": "markdown",
   "metadata": {},
   "source": [
    "### The fitness function and population"
   ]
  },
  {
   "cell_type": "markdown",
   "metadata": {},
   "source": [
    "We define the fitness function to take as input an $s$-$t$ path, and return the total distance of the path. Each parent (and child) corresponds to an $s$-$t$ path and its score. We'll start with a population of, say, 10 parents, each representing randomly generated $s$-$t$ paths. "
   ]
  },
  {
   "cell_type": "markdown",
   "metadata": {},
   "source": [
    "### Mating"
   ]
  },
  {
   "cell_type": "markdown",
   "metadata": {},
   "source": [
    "In each generation, we'll form 5 pairs of parents, using every parent once. Given two parents, $P_0$ and $P_1$, we create a child in the following way. \n",
    "\n",
    "_Note._ We will often speak about parents and children as paths. This isn't strictly correct, because a parent or a child is both a path AND a score. We kindly ask for the reader's tolerance. 😊\n",
    "\n",
    "**Case A.**\n",
    "If $P_0$ and $P_1$ do not have a common vertex other than $s$ and $t$, then we randomly select a vertex $a$ in $P_0$ and a vertex $b$ in $P_1$. We form the child's path by joining the part of $P_0$ from $s$ to $a$, the edge $(a,b)$, and the part of $P_1$ from $b$ to $t$.\n",
    "\n",
    "\n",
    "**Case B.**\n",
    "If $P_0$ and $P_1$ have a common vertex other than $s$ and $t$, then let $x$ be the first vertex in $P_0$ that is in $P_1$. We form the child's path by doing one of the following: \n",
    "\n",
    "- join the part of the path $P_0$ from $s$ to $x$ with the part of the path $P_1$ from $x$ to $t$, or\n",
    "- join the part of the path $P_1$ from $s$ to $x$ with the part of the path $P_0$ from $x$ to $t$.\n",
    "\n",
    "We choose the path whose first part (up until $x$) has the smaller score. \n",
    "\n",
    "In both cases the new child's path may have loops. For instance if $s=0$ and $t=29$ we might produce a new child's path $0-5-6-9-5-9-19-29$. We remove the loop $5-6-9-5$ starting earliest in the path to get $0-5-9-19-29$. Note that this destroyed a second (entwined) loop $9-5-9$. In general, loops could remain in the resulting path. We continue to remove the earliest loops until none remain, producing our child's path. "
   ]
  },
  {
   "cell_type": "markdown",
   "metadata": {},
   "source": [
    "### Local modifications (a.k.a. \"growing up\")"
   ]
  },
  {
   "cell_type": "markdown",
   "metadata": {},
   "source": [
    "For local modifications on a child, we pick two vertices $a$ and $b$ on the child's path, such that $a$ appears earlier than $b$. Then we consider three new candidate paths:\n",
    "\n",
    "- the original child's path, \n",
    "- the path formed by joining\n",
    "    1. the part of the child's path from $s$ to $a$, \n",
    "    2. the edge $(a,b)$, and \n",
    "    3. the part of the child's path from $b$ to $t$, and \n",
    "- the path formed by removing loops from the path obtained by joining:\n",
    "    1. the part of the child's path from $s$ to $a$,\n",
    "    2. two edge path from $a$ to a random vertex $c$ to $b$ \n",
    "    3. the part of the child's path from $b$ to $t$. \n",
    "\n",
    "We replace the child's path with the candidate path whose score is lowest. This completes a single local modification of the child. We do a set number of such modifications, say, 100. "
   ]
  },
  {
   "cell_type": "markdown",
   "metadata": {},
   "source": [
    "### Survival of the fittest"
   ]
  },
  {
   "cell_type": "markdown",
   "metadata": {},
   "source": [
    "After each child grows up, they compete with their two parents. The two paths with the smallest scores remain in the mating pool and the path with the highest score is discarded. This completes a single generation. "
   ]
  },
  {
   "cell_type": "markdown",
   "metadata": {},
   "source": [
    "We repeat this entire process (pairing parents, mating to produce a child, local improvement of the child, and a fight-to-the-death elimination match pitting two parents against their child &mdash; hey, evolution isn't pretty!) over multiple generations, say, 50 times. Then we select the parent with the lowest score and use their path as our solution to the shortest path problem. "
   ]
  },
  {
   "cell_type": "markdown",
   "metadata": {},
   "source": [
    "### Is this algorithm good?"
   ]
  },
  {
   "cell_type": "markdown",
   "metadata": {},
   "source": [
    "Note that our algorithm involves randomization, so running it multiple times will likely produce different solutions. Our algorithm is also a heuristic: it need not produce the shortest path but rather produces the shortest path out of the few paths it considered. \n",
    "\n",
    "Using the algorithm above, we consider $10+5*3*100*50$ (=75010) $s$-$t$ paths without loops. That is a lot of paths but if $n=30$ there are more than $8.28 \\times 10^{29}$ $s$-$t$ paths, so we are only considering a  small subset of all paths. It is remarkable that this method often produces the best answer. \n",
    "\n",
    "We can check our answer using the `shortest_path` method in NetworkX, which solves the shortest path problem exactly. Exact algorithms for the shortest path problem, like Dijkstra's algorithm and the Bellman-Ford algorithm, are often taught in SA405 &mdash; Advanced Mathematical Programming.    "
   ]
  },
  {
   "cell_type": "markdown",
   "metadata": {},
   "source": [
    "## Classwork"
   ]
  },
  {
   "cell_type": "markdown",
   "metadata": {},
   "source": [
    "This lesson's classwork will walk you through implementing the genetic algorithm described above for the shortest path problem!"
   ]
  },
  {
   "cell_type": "markdown",
   "metadata": {},
   "source": [
    "Before starting the classwork, run the code cell below to import NumPy."
   ]
  },
  {
   "cell_type": "code",
   "execution_count": 2,
   "metadata": {},
   "outputs": [],
   "source": [
    "import numpy as np"
   ]
  },
  {
   "cell_type": "markdown",
   "metadata": {},
   "source": [
    "**Problem 1.**\n",
    "Write a function `make_distance_matrix` that \n",
    "\n",
    "- takes as input a positive integer $n$, and \n",
    "- returns an $n \\times n$ symmetric matrix with \n",
    "    1. 0s for all diagonal entries and\n",
    "    2. randomly generated integers between 1 and 99 (inclusive) for all off-diagonal entries. \n",
    "\n",
    "_Hints._\n",
    "\n",
    "- Start with a $n \\times n$ matrix filled with zeros.\n",
    "- Use a nested `for` loop to go over rows with index $i = 0, 1, \\dots, n-1$ and columns with index $j = i + 1, \\dots, n - 1$. This will go over only the upper triangular entries of the matrix. Set $d_{ji} = d_{ij}$ so you end up with a symmetric matrix.\n",
    "- Use the NumPy method `np.random.randint()`: `np.random.randint(a, b)` generates a random integer between `a` and `b - 1` inclusive. "
   ]
  },
  {
   "cell_type": "code",
   "execution_count": 3,
   "metadata": {},
   "outputs": [],
   "source": [
    "def make_distance_matrix(n):\n",
    "    \"\"\"\n",
    "    Make distance matrix on complete graph with n nodes\n",
    "    \"\"\"\n",
    "    # Make n x n matrix, filled with 0s\n",
    "    d = np.zeros((n, n))\n",
    "    \n",
    "    # Fill in upper diagonal etnries with randomly generated integers \n",
    "    # between 1 and 99 and make matrix symmetric (so d = d.transpose()). \n",
    "    for i in range(n):\n",
    "        for j in range(i + 1, n):\n",
    "            d[i, j] = np.random.randint(1,100)\n",
    "            d[j, i] = d[i, j]\n",
    "            \n",
    "    return d"
   ]
  },
  {
   "cell_type": "markdown",
   "metadata": {},
   "source": [
    "**Problem 2.**\n",
    "Run the code cell beow.\n",
    "\n",
    "The code sets some parameters, and calls your `make_distance_matrix` function from Problem 1 to create the matrix of distances between vertices in the graph."
   ]
  },
  {
   "cell_type": "code",
   "execution_count": 4,
   "metadata": {},
   "outputs": [
    {
     "name": "stdout",
     "output_type": "stream",
     "text": [
      "[[ 0. 90. 98. 44. 36. 28. 79. 61. 61. 29. 98. 50. 94. 66. 19. 15. 81. 68.\n",
      "  55. 31. 65. 52. 16.  4. 27.  4. 29. 37. 16.  2.]\n",
      " [90.  0. 95. 26. 64. 10. 45. 65. 70. 57. 57. 93. 42. 18. 89. 22. 60. 61.\n",
      "  99. 91. 10. 58. 15. 84.  7. 66. 36. 60. 37. 40.]\n",
      " [98. 95.  0.  3. 19. 79. 68. 71. 35. 56. 54. 67. 16. 86.  8. 60. 91. 24.\n",
      "  20. 57. 91. 11. 48. 35. 32. 73.  3. 95. 61. 11.]\n",
      " [44. 26.  3.  0. 50.  5. 28. 18. 81. 11. 51. 26.  9. 19. 15. 58. 36. 90.\n",
      "  29. 40. 36.  9. 47.  5. 90. 65. 85. 26. 89. 94.]\n",
      " [36. 64. 19. 50.  0. 85. 34. 33. 39. 80. 53. 25. 93. 56. 25. 18. 52. 63.\n",
      "  92.  4.  2. 43. 37. 99. 10. 70. 80. 82. 46. 42.]\n",
      " [28. 10. 79.  5. 85.  0. 21. 13. 62. 76. 76. 24. 84. 27. 34. 79. 67. 95.\n",
      "  81. 52. 57. 76. 81. 97. 65. 35. 83. 30. 44.  6.]\n",
      " [79. 45. 68. 28. 34. 21.  0.  1.  5. 59. 16. 40. 99. 60. 94. 60. 70. 75.\n",
      "  18. 69. 74. 30. 22.  2. 99. 27. 16. 78.  2. 46.]\n",
      " [61. 65. 71. 18. 33. 13.  1.  0. 92. 48. 74. 87.  2.  3. 55. 55. 99. 73.\n",
      "  24. 70. 46. 40. 53. 61. 91.  2. 79. 63. 39. 46.]\n",
      " [61. 70. 35. 81. 39. 62.  5. 92.  0. 95. 59. 56. 47. 60. 90. 29. 13. 75.\n",
      "  52. 27. 79. 13. 38. 45. 12. 23. 31. 38. 13. 44.]\n",
      " [29. 57. 56. 11. 80. 76. 59. 48. 95.  0. 29. 40. 81. 82. 20. 67. 23. 65.\n",
      "  45. 86. 23. 79. 44. 14. 92. 10. 69.  7. 39. 31.]\n",
      " [98. 57. 54. 51. 53. 76. 16. 74. 59. 29.  0. 86. 61. 89. 83. 23. 77. 52.\n",
      "  31. 19. 44. 53. 62. 47. 44. 54. 29. 72. 13. 91.]\n",
      " [50. 93. 67. 26. 25. 24. 40. 87. 56. 40. 86.  0. 44.  9.  1. 28. 19. 17.\n",
      "  43. 30. 16. 59. 69. 93. 82. 43. 47. 33. 11. 11.]\n",
      " [94. 42. 16.  9. 93. 84. 99.  2. 47. 81. 61. 44.  0.  2.  9. 36. 62. 56.\n",
      "  56. 99. 69. 36.  1. 32. 70. 99.  9. 82. 11. 16.]\n",
      " [66. 18. 86. 19. 56. 27. 60.  3. 60. 82. 89.  9.  2.  0. 92. 34. 47. 51.\n",
      "  91. 79. 95. 21.  8. 38. 58. 92. 84. 97. 68. 41.]\n",
      " [19. 89.  8. 15. 25. 34. 94. 55. 90. 20. 83.  1.  9. 92.  0. 32. 21. 26.\n",
      "  99. 85.  1. 72. 73. 54. 47. 86. 64. 60. 99. 13.]\n",
      " [15. 22. 60. 58. 18. 79. 60. 55. 29. 67. 23. 28. 36. 34. 32.  0. 46. 74.\n",
      "  41. 70. 57. 11. 67. 95. 76.  7. 31.  4. 96. 29.]\n",
      " [81. 60. 91. 36. 52. 67. 70. 99. 13. 23. 77. 19. 62. 47. 21. 46.  0. 68.\n",
      "  60. 53. 76. 77. 28. 97. 80. 61. 33. 59. 40. 55.]\n",
      " [68. 61. 24. 90. 63. 95. 75. 73. 75. 65. 52. 17. 56. 51. 26. 74. 68.  0.\n",
      "  10. 99. 97. 48. 53. 98.  2. 94. 64. 48. 69. 34.]\n",
      " [55. 99. 20. 29. 92. 81. 18. 24. 52. 45. 31. 43. 56. 91. 99. 41. 60. 10.\n",
      "   0. 99. 67. 18. 46. 82. 45. 80. 20. 53. 14. 61.]\n",
      " [31. 91. 57. 40.  4. 52. 69. 70. 27. 86. 19. 30. 99. 79. 85. 70. 53. 99.\n",
      "  99.  0. 69. 43.  5. 67. 23. 17. 65. 32.  5. 92.]\n",
      " [65. 10. 91. 36.  2. 57. 74. 46. 79. 23. 44. 16. 69. 95.  1. 57. 76. 97.\n",
      "  67. 69.  0.  5. 98. 30. 74. 83. 37. 44. 25. 62.]\n",
      " [52. 58. 11.  9. 43. 76. 30. 40. 13. 79. 53. 59. 36. 21. 72. 11. 77. 48.\n",
      "  18. 43.  5.  0. 14. 24. 34. 87. 25. 36. 21. 57.]\n",
      " [16. 15. 48. 47. 37. 81. 22. 53. 38. 44. 62. 69.  1.  8. 73. 67. 28. 53.\n",
      "  46.  5. 98. 14.  0. 74. 15. 30. 54. 84. 16. 51.]\n",
      " [ 4. 84. 35.  5. 99. 97.  2. 61. 45. 14. 47. 93. 32. 38. 54. 95. 97. 98.\n",
      "  82. 67. 30. 24. 74.  0. 45. 74. 39. 14. 38.  4.]\n",
      " [27.  7. 32. 90. 10. 65. 99. 91. 12. 92. 44. 82. 70. 58. 47. 76. 80.  2.\n",
      "  45. 23. 74. 34. 15. 45.  0. 84. 63. 51. 42. 92.]\n",
      " [ 4. 66. 73. 65. 70. 35. 27.  2. 23. 10. 54. 43. 99. 92. 86.  7. 61. 94.\n",
      "  80. 17. 83. 87. 30. 74. 84.  0. 57. 38. 78. 74.]\n",
      " [29. 36.  3. 85. 80. 83. 16. 79. 31. 69. 29. 47.  9. 84. 64. 31. 33. 64.\n",
      "  20. 65. 37. 25. 54. 39. 63. 57.  0. 78. 67. 71.]\n",
      " [37. 60. 95. 26. 82. 30. 78. 63. 38.  7. 72. 33. 82. 97. 60.  4. 59. 48.\n",
      "  53. 32. 44. 36. 84. 14. 51. 38. 78.  0. 22. 52.]\n",
      " [16. 37. 61. 89. 46. 44.  2. 39. 13. 39. 13. 11. 11. 68. 99. 96. 40. 69.\n",
      "  14.  5. 25. 21. 16. 38. 42. 78. 67. 22.  0.  5.]\n",
      " [ 2. 40. 11. 94. 42.  6. 46. 46. 44. 31. 91. 11. 16. 41. 13. 29. 55. 34.\n",
      "  61. 92. 62. 57. 51.  4. 92. 74. 71. 52.  5.  0.]]\n"
     ]
    }
   ],
   "source": [
    "# Number of vertices\n",
    "n = 30\n",
    "\n",
    "# Source node\n",
    "s = 0\n",
    "\n",
    "# Terminal node\n",
    "t = n - 1\n",
    "\n",
    "# Number of parents\n",
    "# Should be even\n",
    "num_parents = 10\n",
    "\n",
    "# Number of generations\n",
    "num_gens = 50\n",
    "\n",
    "# Number of local improvements\n",
    "num_loc_improvement = 100\n",
    "\n",
    "# Generate distance matrix\n",
    "d = make_distance_matrix(n)\n",
    "\n",
    "# Print distance matrix to check our work\n",
    "print(d)"
   ]
  },
  {
   "cell_type": "markdown",
   "metadata": {},
   "source": [
    "**Problem 3.**\n",
    "Write a function `compute_score` that computes the total distance along a path.\n",
    "\n",
    "- The inputs to this function should be\n",
    "    1. a path starting at the source node ($s=0$) and ending at the terminal node ($t=29$) and \n",
    "    2. a distance matrix $d$.\n",
    "\n",
    "- The path should be represented by a list of nodes, e.g. `[0, 5, 8, 12, 29]`\n",
    "    \n",
    "- This function should return the distance from the source node to the terminal node."
   ]
  },
  {
   "cell_type": "code",
   "execution_count": 5,
   "metadata": {},
   "outputs": [],
   "source": [
    "# Write your code below\n",
    "def compute_score(path, d):\n",
    "    \"\"\"\n",
    "    Compute the fitness score of a path, i.e., its total length\n",
    "    \"\"\"\n",
    "    # Initialize score to 0\n",
    "    score = 0\n",
    "    \n",
    "    # Iterate through the path nodes\n",
    "    # Add the length of each edge to the score\n",
    "    for e in range(len(path) - 1):\n",
    "        score += d[path[e], path[e + 1]]\n",
    "        \n",
    "    return score"
   ]
  },
  {
   "cell_type": "markdown",
   "metadata": {},
   "source": [
    "Check your function by running the code in the cell below.  If your function is correct, the code should output `True` to the screen."
   ]
  },
  {
   "cell_type": "code",
   "execution_count": 6,
   "metadata": {},
   "outputs": [
    {
     "data": {
      "text/plain": [
       "True"
      ]
     },
     "execution_count": 6,
     "metadata": {},
     "output_type": "execute_result"
    }
   ],
   "source": [
    "# Check your compute_score function by running the code in this cell\n",
    "compute_score([0, 5, 8, 12, 29], d) == d[0, 5] + d[5, 8] + d[8, 12] + d[12, 29]"
   ]
  },
  {
   "cell_type": "markdown",
   "metadata": {},
   "source": [
    "**Problem 4.**\n",
    "Next, we will generate a list of parents. The code below defines a function `generate_parents`. Read through the code to get a sense of what it does."
   ]
  },
  {
   "cell_type": "code",
   "execution_count": 7,
   "metadata": {},
   "outputs": [],
   "source": [
    "def generate_parents(num_parents, s, t, num_nodes, d):\n",
    "    \"\"\"\n",
    "    Make a list of parents.\n",
    "    Each parent consists of (1) a path from s to t, and (2) its score\n",
    "    \"\"\"\n",
    "    # Initialize list of parents\n",
    "    parents = []\n",
    "    \n",
    "    for i in range(num_parents):\n",
    "        # Randomly generate a path p with the following steps\n",
    "        # 1. Create a list of all the nodes\n",
    "        nodes_except_s = list(range(num_nodes))\n",
    "        \n",
    "        # 2. Remove the source node from this list\n",
    "        nodes_except_s.remove(s)\n",
    "        \n",
    "        # 3. Randomly shuffle the nodes in this list\n",
    "        shuffled_nodes_except_s = list(np.random.permutation(nodes_except_s))\n",
    "        \n",
    "        # 4. Where does the terminal vertex appear in the shuffled list?\n",
    "        t_index = shuffled_nodes_except_s.index(t)\n",
    "        \n",
    "        # 5. Create a random path by starting at the source node s,\n",
    "        # continue with the nodes in the shuffled list, until we \n",
    "        # reach the terminal node t\n",
    "        # Note that the + operator concatenates lists\n",
    "        path = [s] + shuffled_nodes_except_s[:t_index + 1]\n",
    "        \n",
    "        # Compute the score of this random path\n",
    "        score = compute_score(path, d)\n",
    "        \n",
    "        # Append this newly generated parent to the list of parents\n",
    "        # Note that a parent is a dictionary\n",
    "        parents.append({'path': path, 'score': score})\n",
    "        \n",
    "    return parents"
   ]
  },
  {
   "cell_type": "markdown",
   "metadata": {},
   "source": [
    "In the next code cell, call the function `generate_parents`, and then print out a list of parents to the screen."
   ]
  },
  {
   "cell_type": "code",
   "execution_count": 8,
   "metadata": {},
   "outputs": [
    {
     "name": "stdout",
     "output_type": "stream",
     "text": [
      "[{'path': [0, 2, 20, 9, 18, 3, 21, 11, 22, 27, 5, 6, 23, 7, 29], 'score': 667.0}, {'path': [0, 5, 1, 4, 28, 23, 27, 9, 20, 3, 15, 22, 10, 11, 8, 25, 16, 14, 21, 29], 'score': 829.0}, {'path': [0, 16, 11, 8, 1, 21, 20, 22, 19, 26, 4, 28, 29], 'score': 588.0}, {'path': [0, 12, 9, 4, 16, 24, 19, 10, 1, 15, 13, 29], 'score': 583.0}, {'path': [0, 4, 11, 18, 2, 20, 16, 23, 25, 17, 12, 1, 14, 21, 28, 13, 22, 19, 29], 'score': 1009.0}, {'path': [0, 6, 10, 17, 14, 7, 22, 19, 16, 24, 13, 29], 'score': 518.0}, {'path': [0, 18, 8, 28, 27, 24, 6, 23, 17, 20, 2, 11, 1, 22, 29], 'score': 806.0}, {'path': [0, 9, 11, 7, 1, 10, 22, 20, 26, 6, 29], 'score': 537.0}, {'path': [0, 28, 5, 24, 25, 7, 19, 1, 10, 23, 6, 26, 3, 29], 'score': 673.0}, {'path': [0, 12, 28, 11, 20, 15, 6, 18, 22, 27, 29], 'score': 449.0}]\n"
     ]
    }
   ],
   "source": [
    "# Write your code below\n",
    "parents = generate_parents(num_parents, s, t, n, d)\n",
    "print(parents)"
   ]
  },
  {
   "cell_type": "markdown",
   "metadata": {},
   "source": [
    "**Problem 5.**\n",
    "Now we'll pair the parents for mating.\n",
    "\n",
    "- Write code that creates a list `pairs` consisting of `num_parents / 2` inner lists. Each inner list should contain two parents. \n",
    "- Each parent should appear in one and only one list. \n",
    "- Your pairings should be random; you don't want to keep mating the same pair of parents generation after generation.\n",
    "\n",
    "_Hint._ You might find the method `np.random.permutation()` useful. We used it in the definition of `generate_parents` in the previous problem. What does it do? Check the NumPy documentation if you're not sure."
   ]
  },
  {
   "cell_type": "code",
   "execution_count": 9,
   "metadata": {},
   "outputs": [
    {
     "name": "stdout",
     "output_type": "stream",
     "text": [
      "[[{'path': [0, 2, 20, 9, 18, 3, 21, 11, 22, 27, 5, 6, 23, 7, 29], 'score': 667.0}, {'path': [0, 12, 9, 4, 16, 24, 19, 10, 1, 15, 13, 29], 'score': 583.0}], [{'path': [0, 6, 10, 17, 14, 7, 22, 19, 16, 24, 13, 29], 'score': 518.0}, {'path': [0, 16, 11, 8, 1, 21, 20, 22, 19, 26, 4, 28, 29], 'score': 588.0}], [{'path': [0, 28, 5, 24, 25, 7, 19, 1, 10, 23, 6, 26, 3, 29], 'score': 673.0}, {'path': [0, 9, 11, 7, 1, 10, 22, 20, 26, 6, 29], 'score': 537.0}], [{'path': [0, 5, 1, 4, 28, 23, 27, 9, 20, 3, 15, 22, 10, 11, 8, 25, 16, 14, 21, 29], 'score': 829.0}, {'path': [0, 12, 28, 11, 20, 15, 6, 18, 22, 27, 29], 'score': 449.0}], [{'path': [0, 4, 11, 18, 2, 20, 16, 23, 25, 17, 12, 1, 14, 21, 28, 13, 22, 19, 29], 'score': 1009.0}, {'path': [0, 18, 8, 28, 27, 24, 6, 23, 17, 20, 2, 11, 1, 22, 29], 'score': 806.0}]]\n"
     ]
    }
   ],
   "source": [
    "# Create a shuffled list of indices\n",
    "# One index per parent\n",
    "random_index = np.random.permutation(list(range(num_parents)))\n",
    "\n",
    "# Pair up parents according to the shuffled list of indices\n",
    "pairs = []\n",
    "for i in range(int(num_parents / 2)):\n",
    "    pairs.append([parents[random_index[2 * i]], parents[random_index[2 * i + 1]]])\n",
    "\n",
    "# Check our work\n",
    "print(pairs)"
   ]
  },
  {
   "cell_type": "markdown",
   "metadata": {},
   "source": [
    "__Problem 6.__\n",
    "The code cell below defines the function `remove_loops`, which removes any loops in a path. Read through the code to get a sense of what it does."
   ]
  },
  {
   "cell_type": "code",
   "execution_count": 10,
   "metadata": {},
   "outputs": [],
   "source": [
    "def remove_loops(p):\n",
    "    \"\"\"\n",
    "    Remove loops from a path\n",
    "    \"\"\"\n",
    "    \n",
    "    # Keep doing this loop while there are \n",
    "    # no duplicates in the path (list of nodes) p.\n",
    "    # The while condition uses the *set* data structure, which is\n",
    "    # like a list, but requires that its items are unique.\n",
    "    # list(set(x)) returns a list with all duplicates of x removed.\n",
    "    while len(list(set(p))) != len(p):\n",
    "        \n",
    "        for i in list(set(p)):\n",
    "            # Find the index of the first i \n",
    "            a = p.index(i) \n",
    "            \n",
    "            # Find the index of the last i\n",
    "            # Remember that p[::-1] is the list p, but in reverse order\n",
    "            b = len(p) - 1 - p[::-1].index(i)\n",
    "            \n",
    "            # If the indices of the first and last i are\n",
    "            # not the same, then we have a loop!\n",
    "            if a != b:\n",
    "                # Remove the vertices of the loop\n",
    "                p = p[0: a + 1] + p[b + 1:]\n",
    "                break\n",
    "                \n",
    "    return p"
   ]
  },
  {
   "cell_type": "markdown",
   "metadata": {},
   "source": [
    "Try it out:"
   ]
  },
  {
   "cell_type": "code",
   "execution_count": 11,
   "metadata": {},
   "outputs": [
    {
     "data": {
      "text/plain": [
       "[0, 1, 2, 3, 8, 5, 28, 21, 17, 29]"
      ]
     },
     "execution_count": 11,
     "metadata": {},
     "output_type": "execute_result"
    }
   ],
   "source": [
    "remove_loops([0, 1, 2, 3, 5, 6, 3, 8, 5, 28, 21, 17, 29])"
   ]
  },
  {
   "cell_type": "markdown",
   "metadata": {},
   "source": [
    "You should get `[0, 1, 2, 3, 8, 5, 28, 21, 17, 29]` as output.\n",
    "\n",
    "Note that when we remove the loop starting at 3, the loop starting at 5 disappears! Removing the loop starting at 5 would kill the loop starting at 3 too. It isn't clear which is preferable. We just get a loopless path and call it a day."
   ]
  },
  {
   "cell_type": "markdown",
   "metadata": {},
   "source": [
    "The function `remove_loops` is called in the function `mate_parents`, which is defined in the code cell below. The function `mate_parents` takes as input two parents and the distance matrix $d$. Read through the code for `mate_parents` to get a sense of what it does."
   ]
  },
  {
   "cell_type": "code",
   "execution_count": 12,
   "metadata": {},
   "outputs": [],
   "source": [
    "def mate_parents(p0, p1, d):\n",
    "    \"\"\"\n",
    "    Produce a child by \"mating\" two parents p0 and p1\n",
    "    \"\"\"\n",
    "    # Find the first vertex x after s in p0 that is in p1.\n",
    "    # Such a vertex exists, since the terminal node t is in both p0 and p1.\n",
    "    # (In this case, the loop below would go through all values of i.)\n",
    "    for i in range(1, len(p0['path'])):\n",
    "        if p0['path'][i] in p1['path']:\n",
    "            break\n",
    "            \n",
    "    # After the loop above, i is the index of x in p0\n",
    "    x = p0['path'][i]\n",
    "        \n",
    "    # CASE A: x = t\n",
    "    # Select vertex a in p0 and vertex b in p1. \n",
    "    # Child = [s,...,a] in p0 + edge [a,b] + [b,...,t] in p1. \n",
    "    if x == p0['path'][-1]:\n",
    "        \n",
    "        # CASE A.1: both p0 and p1 have AT LEAST \n",
    "        # one vertex other than s and t in their paths\n",
    "        # (i.e., they both have length > 2)\n",
    "        if len(p0['path']) > 2 and len(p1['path']) > 2:\n",
    "            # Randomly select vertex a in p0 by choosing a random index\n",
    "            # (excluding the 0th and last indices, since they correspond\n",
    "            # to s and t)\n",
    "            a_index = np.random.randint(1, len(p0['path']) - 1)\n",
    "            \n",
    "            # Randomly select vertex b in p1 by choosing a random index\n",
    "            b_index = np.random.randint(1, len(p1['path']) - 1)\n",
    "            \n",
    "            # Create child path: [s,...a] in p0 + [b,...,t] in p1\n",
    "            child_path = p0['path'][:a_index + 1] + p1['path'][b_index:]\n",
    "        \n",
    "        # CASE A.2: p0 has at least one vertex other than s and t in its path,\n",
    "        # but p1 has only s and t in its path\n",
    "        if len(p0['path']) > 2 and len(p1['path']) == 2:\n",
    "            # Randomly select vertex a in p0 by choosing a random index\n",
    "            a_index = np.random.randint(1, len(p0['path']) - 1)\n",
    "            \n",
    "            # Select the terminal node from p1\n",
    "            b_index = p1['path'][-1]\n",
    "            \n",
    "            # Create child path: [s,...,a] in p0 + [t]\n",
    "            child_path = p0['path'][:a_index + 1] + p1['path'][b_index:]\n",
    "        \n",
    "        # CASE A.3: p0 has only s and t in its path,\n",
    "        # but p1 has at least one vertex other than s and t in its path\n",
    "        if len(p0['path']) == 2 and len(p1['path']) > 2:\n",
    "            # Select the source node from p0\n",
    "            a_index = p0['path'][0]\n",
    "            \n",
    "            # Randomly select vertex b in p1 by choosing a random index\n",
    "            b_index = np.random.randint(1, len(p1['path']) - 1)\n",
    "            \n",
    "            # Create child path: [s] + [b,...,t] in p1\n",
    "            child_path = p0['path'][:a_index + 1] + p1['path'][b_index:]\n",
    "        \n",
    "        # CASE A.4: p0 and p1 BOTH only have s and t in their paths\n",
    "        else:\n",
    "            # Set the child path to [s, t]\n",
    "            child_path = p0['path']\n",
    "        \n",
    "    \n",
    "    # CASE B: x != t\n",
    "    # Select shorter of [s,...,x] on p0 and [s,...,x] on p1.\n",
    "    # Add [x,...,t] from the other path.  \n",
    "    else:\n",
    "        # Find index of x in p1\n",
    "        j = p1['path'].index(x)\n",
    "        \n",
    "        # Find the shorter [s,...,x]\n",
    "        # Add [x,...,t] from the other path\n",
    "        if compute_score(p0['path'][:i + 1], d) <= compute_score(p1['path'][:j + 1], d):\n",
    "            child_path = p0['path'][:i + 1] + p1['path'][j + 1:]\n",
    "        else: \n",
    "            child_path = p1['path'][:j + 1] + p0['path'][i + 1:]\n",
    "            \n",
    "    # Remove loops in the child path\n",
    "    child_path = remove_loops(child_path)\n",
    "    \n",
    "    # Get child's score\n",
    "    child_score = compute_score(child_path, d)\n",
    "    \n",
    "    # Return child\n",
    "    child = {'path': child_path, 'score': child_score}\n",
    "    return child"
   ]
  },
  {
   "cell_type": "markdown",
   "metadata": {},
   "source": [
    "When looking at new code, it is a good idea to try to see what the code does to some sample input. The code below defines 3 parents, `parent0`, `parent1`, and `parent2`. \n",
    "\n",
    "Mate `parent0` and `parent1` to produce a child. Go line by line through the code for `mate_parents` above and predict what the function does. Then run the code to see if the child you predicted was correct.\n",
    "\n",
    "Do the same with `parent0` and `parent2`. Here the function will return an answer with some randomness. What is different in this case? Why can't we confidently predict the path of the child?"
   ]
  },
  {
   "cell_type": "code",
   "execution_count": 13,
   "metadata": {},
   "outputs": [
    {
     "name": "stdout",
     "output_type": "stream",
     "text": [
      "{'path': [0, 5, 8, 10, 15, 29], 'score': 201.0}\n",
      "{'path': [0, 5, 8, 12, 21, 29], 'score': 230.0}\n"
     ]
    }
   ],
   "source": [
    "# Define parents for testing\n",
    "parent0_path = [0, 5, 8, 12, 21, 29]\n",
    "parent0_score = compute_score(parent0_path, d)\n",
    "parent0 = {'path': parent0_path, 'score': parent0_score}\n",
    "\n",
    "parent1_path = [0, 2, 8, 10, 15, 29]\n",
    "parent1_score = compute_score(parent1_path, d)\n",
    "parent1 = {'path': parent1_path, 'score': parent1_score}\n",
    "\n",
    "parent2_path = [0, 7, 18, 29]\n",
    "parent2_score = compute_score(parent2_path, d)\n",
    "parent2 = {'path': parent2_path, 'score': parent2_score}\n",
    "\n",
    "# Write your testing code below\n",
    "# Parents 0 and 1\n",
    "# This is case B with x = 8. The positions i and j are both 2.\n",
    "child = mate_parents(parent0, parent1, d)\n",
    "print(child)\n",
    "\n",
    "# Parents 0 and 2\n",
    "# This is case A: the paths only intersect at s and t. \n",
    "# We choose a random vertex on parent0 to get a_index and \n",
    "# a random vertex on parent2 to get b_index.\n",
    "child = mate_parents(parent0, parent2, d)\n",
    "print(child)"
   ]
  },
  {
   "cell_type": "markdown",
   "metadata": {},
   "source": [
    "**Problem 7.**\n",
    "Run the code below to produce a list `families` consisting of inner lists, each with 3 items: the first two items are paired parents and the third is their child."
   ]
  },
  {
   "cell_type": "code",
   "execution_count": 14,
   "metadata": {},
   "outputs": [
    {
     "name": "stdout",
     "output_type": "stream",
     "text": [
      "[[{'path': [0, 2, 20, 9, 18, 3, 21, 11, 22, 27, 5, 6, 23, 7, 29], 'score': 667.0}, {'path': [0, 12, 9, 4, 16, 24, 19, 10, 1, 15, 13, 29], 'score': 583.0}, {'path': [0, 12, 9, 18, 3, 21, 11, 22, 27, 5, 6, 23, 7, 29], 'score': 630.0}], [{'path': [0, 6, 10, 17, 14, 7, 22, 19, 16, 24, 13, 29], 'score': 518.0}, {'path': [0, 16, 11, 8, 1, 21, 20, 22, 19, 26, 4, 28, 29], 'score': 588.0}, {'path': [0, 6, 10, 17, 14, 7, 22, 19, 26, 4, 28, 29], 'score': 482.0}], [{'path': [0, 28, 5, 24, 25, 7, 19, 1, 10, 23, 6, 26, 3, 29], 'score': 673.0}, {'path': [0, 9, 11, 7, 1, 10, 22, 20, 26, 6, 29], 'score': 537.0}, {'path': [0, 9, 11, 7, 19, 1, 10, 23, 6, 26, 3, 29], 'score': 618.0}], [{'path': [0, 5, 1, 4, 28, 23, 27, 9, 20, 3, 15, 22, 10, 11, 8, 25, 16, 14, 21, 29], 'score': 829.0}, {'path': [0, 12, 28, 11, 20, 15, 6, 18, 22, 27, 29], 'score': 449.0}, {'path': [0, 12, 28, 23, 27, 9, 20, 3, 15, 22, 10, 11, 8, 25, 16, 14, 21, 29], 'score': 786.0}], [{'path': [0, 4, 11, 18, 2, 20, 16, 23, 25, 17, 12, 1, 14, 21, 28, 13, 22, 19, 29], 'score': 1009.0}, {'path': [0, 18, 8, 28, 27, 24, 6, 23, 17, 20, 2, 11, 1, 22, 29], 'score': 806.0}, {'path': [0, 4, 11, 1, 22, 29], 'score': 220.0}]]\n"
     ]
    }
   ],
   "source": [
    "# Mate each pair and store child in family next to its parents\n",
    "families = []\n",
    "for [p0, p1] in pairs: \n",
    "    child = mate_parents(p0, p1, d)\n",
    "    families.append([p0, p1, child])\n",
    "    \n",
    "# Check our work\n",
    "print(families)"
   ]
  },
  {
   "cell_type": "markdown",
   "metadata": {},
   "source": [
    "**Problem 8.**\n",
    "The function `improve_child` is defined in the code cell below. It applies the local improvement process to a child. Read through the code to get a sense of what it does."
   ]
  },
  {
   "cell_type": "code",
   "execution_count": 15,
   "metadata": {},
   "outputs": [],
   "source": [
    "def improve_child(child, num_loc_improvement, n, d):\n",
    "    \"\"\"\n",
    "    Locally improve child\n",
    "    \"\"\"\n",
    "    # Local improvement on child's path p\n",
    "    # \n",
    "    # 1. Randomly pick two vertices on path p: a and b\n",
    "    #    - Vertex a should be before vertex b in path p\n",
    "    # 2. Compare three candidate paths: \n",
    "    #    - original p, \n",
    "    #    - [s,...,a] on p + edge [a,b] + [b,...,t] on p, \n",
    "    #    - [s,...,a] on p + random vertex c + [b,...,t] on p, after removing loops. \n",
    "    # 3. Pick the best of these paths.\n",
    "    # 4. Do this for num_loc_improvement iterations.\n",
    "    \n",
    "    for k in range(num_loc_improvement):\n",
    "        child_path = child['path']\n",
    "        \n",
    "        a_index = np.random.randint(0, len(child_path) - 1)\n",
    "        b_index = np.random.randint(a_index + 1, len(child_path))\n",
    "        \n",
    "        # Define and score first alternate path\n",
    "        alt1_path = child_path[:a_index + 1] + child_path[b_index:]\n",
    "        alt1_score = compute_score(alt1_path, d)\n",
    "        alt1 = {'path': alt1_path, 'score': alt1_score}\n",
    "        \n",
    "        # Define and score second alternate path\n",
    "        s = child_path[0]\n",
    "        t = child_path[-1]\n",
    "        a = child_path[a_index]\n",
    "        b = child_path[b_index]\n",
    "\n",
    "        # Choose a random vertex c, which cannot be s, t, a, or b\n",
    "        found = False\n",
    "        while not found:\n",
    "            c = np.random.randint(0, n)\n",
    "            if c not in [s, t, a, b]:\n",
    "                found = True\n",
    "\n",
    "        alt2_path = remove_loops(child_path[:a_index + 1] + [c] + child_path[b_index:])\n",
    "        alt2_score = compute_score(alt2_path, d)\n",
    "        alt2 = {'path': alt2_path, 'score': alt2_score}\n",
    "        \n",
    "        # Decide which path is best (lowest score)\n",
    "        # Create list of candidates\n",
    "        candidates = [child, alt1, alt2]\n",
    "        \n",
    "        # Initialize minimum score\n",
    "        min_score = float(\"inf\")\n",
    "        \n",
    "        # Initialize placeholder for candidate with minimum score\n",
    "        min_cand = None\n",
    "        \n",
    "        for cand in candidates:\n",
    "            if cand['score'] < float(\"inf\"):\n",
    "                min_score = cand['score']\n",
    "                min_cand = cand\n",
    "\n",
    "        # Update child to best path\n",
    "        child = min_cand\n",
    "        \n",
    "    return child"
   ]
  },
  {
   "cell_type": "markdown",
   "metadata": {},
   "source": [
    "The code below defines a child. Predict what will happen to the child after the first iteration of the `for` loop in `improve_child` above.\n",
    "\n",
    "Then, run `improve_child` on `child`. Note that there are many random choices made by `improve_child`, and `improve_child` will perform many local improvements (`num_local_improvements = 100` from above)."
   ]
  },
  {
   "cell_type": "code",
   "execution_count": 16,
   "metadata": {},
   "outputs": [
    {
     "data": {
      "text/plain": [
       "{'path': [0, 1, 26, 29], 'score': 197.0}"
      ]
     },
     "execution_count": 16,
     "metadata": {},
     "output_type": "execute_result"
    }
   ],
   "source": [
    "child_path = [0, 5, 8, 14, 16, 19, 23, 27, 29]\n",
    "child_score = compute_score(child_path, d)\n",
    "child = {'path': child_path, 'score': child_score}\n",
    "\n",
    "# Write your code below\n",
    "improve_child(child, num_loc_improvement, n, d)\n",
    "\n",
    "# In the first iterations, the three candidate paths might be:\n",
    "# [0, 5, 8, 14, 16, 19, 23, 27, 29] - the child itself\n",
    "# [0, 5, 14, 16, 19, 23, 27, 29] - from picking a = 5 and b = 14, for example\n",
    "# [0, 5, 2, 14, 16, 19, 23, 27, 29] - from picking c = 2, for example\n",
    "# The new child after the first iteration will be the path with the lowest score."
   ]
  },
  {
   "cell_type": "markdown",
   "metadata": {},
   "source": [
    "**Problem 9.**\n",
    "Run the code below to produce a list `grown_families` of inner lists, each consisting of two paired parents and their improved \"adult\" child."
   ]
  },
  {
   "cell_type": "code",
   "execution_count": 17,
   "metadata": {},
   "outputs": [],
   "source": [
    "# Locally improve each child and store result with parents\n",
    "# in the list grown_families\n",
    "grown_families = []\n",
    "for [p0, p1, child] in families: \n",
    "    adult = improve_child(child, num_loc_improvement, n, d)\n",
    "    grown_families.append([p0, p1, adult])"
   ]
  },
  {
   "cell_type": "markdown",
   "metadata": {},
   "source": [
    "**Problem 10.**\n",
    "The code cell below defines the function `keep_low_two`. What do you think this function does? \n",
    "\n",
    "In particular, what does the keyword argument `key=lambda member: member['score']` do for the `sorted` function? [Here's the documentation on `sorted`](https://docs.python.org/3.7/howto/sorting.html) - take a look at the \"Key Functions\" section."
   ]
  },
  {
   "cell_type": "code",
   "execution_count": 18,
   "metadata": {},
   "outputs": [],
   "source": [
    "def keep_low_two(p0, p1, child):\n",
    "    family = [p0, p1, child]\n",
    "    sorted_family = sorted(family, key=lambda member: member['score'])\n",
    "    \n",
    "    return [sorted_family[0], sorted_family[1]]\n",
    "\n",
    "# keep_low_two takes as input 3 individuals (dictionaries with paths and their \n",
    "# scores) and then returns a list of the two individuals with lowest scores."
   ]
  },
  {
   "cell_type": "markdown",
   "metadata": {},
   "source": [
    "Use the code below to rebuild the `parents` list, replacing some parents with their adult children, as appropriate. "
   ]
  },
  {
   "cell_type": "code",
   "execution_count": 19,
   "metadata": {},
   "outputs": [],
   "source": [
    "# Rebuild list of parents, possibly using some children  \n",
    "parents = []\n",
    "for [p0, p1, adult] in grown_families:\n",
    "    [new_p0, new_p1] = keep_low_two(p0, p1, adult)\n",
    "    parents.append(new_p0)\n",
    "    parents.append(new_p1)"
   ]
  },
  {
   "cell_type": "markdown",
   "metadata": {},
   "source": [
    "**Problem 11.**\n",
    "The code from Problems 5, 7, 9 and 10 runs a single generation of our genetic algorithm. Take all this code and put it inside a loop that runs the code `num_gens` times. Omit any print statements used to check your work; otherwise, your output will get messy fast!"
   ]
  },
  {
   "cell_type": "code",
   "execution_count": 20,
   "metadata": {
    "run_control": {
     "marked": false
    }
   },
   "outputs": [],
   "source": [
    "for gen in range(num_gens):\n",
    "\n",
    "    # P5: Pair parents for mating\n",
    "    random_index = np.random.permutation(list(range(num_parents)))\n",
    "    pairs = []\n",
    "    for i in range(int(num_parents / 2)):\n",
    "        pairs.append([parents[random_index[2 * i]], parents[random_index[2 * i + 1]]])\n",
    "    \n",
    "    # P7: Mate each pair and store child\n",
    "    families = []\n",
    "    for [p0, p1] in pairs: \n",
    "        child = mate_parents(p0, p1, d)\n",
    "        families.append([p0, p1, child])\n",
    "    \n",
    "    # P9: Locally improve each child\n",
    "    grown_families = []\n",
    "    for [p0, p1, child] in families: \n",
    "        adult = improve_child(child, num_loc_improvement, n, d)\n",
    "        grown_families.append([p0, p1, adult])\n",
    "       \n",
    "    # P10: Rebuild list of parents, possibly using some children  \n",
    "    parents = []\n",
    "    for [p0, p1, adult] in grown_families:\n",
    "        [new_p0, new_p1] = keep_low_two(p0, p1, adult)\n",
    "        parents.append(new_p0)\n",
    "        parents.append(new_p1)"
   ]
  },
  {
   "cell_type": "markdown",
   "metadata": {},
   "source": [
    "**Problem 12.**\n",
    "After running the code that we have so far, we should have a list of very fit parents, constructed and improved over multiple generations. \n",
    "\n",
    "The code cell below defines the function `get_fittest_parent` below. Read the function to get a sense of what it does."
   ]
  },
  {
   "cell_type": "code",
   "execution_count": 21,
   "metadata": {},
   "outputs": [],
   "source": [
    "def get_fittest_parent(parents):\n",
    "    \"\"\"\n",
    "    Gets the fittest parent from a list of parents\n",
    "    \"\"\"\n",
    "    # Sort the parents, using their score as the key\n",
    "    # We use the same technique as in Problem 10\n",
    "    sorted_parents = sorted(parents, key=lambda parent: parent['score'])\n",
    "\n",
    "    # Return parent with lowest\n",
    "    return sorted_parents[0]"
   ]
  },
  {
   "cell_type": "markdown",
   "metadata": {},
   "source": [
    "Write code that finds the parent with the lowest score and print's that parent's path and score to the screen."
   ]
  },
  {
   "cell_type": "code",
   "execution_count": 22,
   "metadata": {},
   "outputs": [
    {
     "name": "stdout",
     "output_type": "stream",
     "text": [
      "The best path found is: [0, 5, 29].\n",
      "The length of this path is 34.0.\n"
     ]
    }
   ],
   "source": [
    "# Write your code below\n",
    "best_parent = get_fittest_parent(parents)\n",
    "print(f\"The best path found is: {best_parent['path']}.\")\n",
    "print(f\"The length of this path is {best_parent['score']}.\")"
   ]
  },
  {
   "cell_type": "markdown",
   "metadata": {},
   "source": [
    "**Problem 13.**\n",
    "NetworkX has methods that efficiently solve shortest path problems. Note that solution we obtained above using our genetic algorithm is heuristic (i.e., approximately optimal), while NetworkX's methods are exact (i.e. produces solutions that are guaranteed to be optimal). \n",
    "\n",
    "Let's compare our answer against the correct answer. Use the following code to solve the shortest path problem using NetworkX.  "
   ]
  },
  {
   "cell_type": "code",
   "execution_count": 23,
   "metadata": {},
   "outputs": [
    {
     "name": "stdout",
     "output_type": "stream",
     "text": [
      "Actual shortest path: [0, 29].\n",
      "The length of this path is : 2.0.\n"
     ]
    }
   ],
   "source": [
    "import networkx as nx\n",
    "\n",
    "# Define complete graph\n",
    "G = nx.complete_graph(n)\n",
    "\n",
    "# Define distances for graph\n",
    "for i in range(n):\n",
    "    for j in range(n):\n",
    "        if i != j:\n",
    "            G[i][j]['weight'] = d[i][j]\n",
    "        \n",
    "# Solve shortest path problem\n",
    "spath = nx.shortest_path(G, source=s, target=t, weight='weight')\n",
    "spath_length = nx.shortest_path_length(G, source=s, target=t, weight='weight')\n",
    "\n",
    "print(f'Actual shortest path: {spath}.')\n",
    "print(f'The length of this path is : {spath_length}.')"
   ]
  },
  {
   "cell_type": "markdown",
   "metadata": {},
   "source": [
    "**Problem 14.**\n",
    "The code cell below contains a nicely organized version of the genetic algorithm that we've contructed above. Run this code or your own several times and see how often the genetic algorithm obtains an optimal solution. When it misses the correct solution, how badly does it miss? Report the error as \n",
    "\n",
    "$$\n",
    "\\text{error} = \\text{genetic algorithm's score} - \\text{actual minimum score}.\n",
    "$$\n",
    "\n",
    "What is the highest error that you observe?"
   ]
  },
  {
   "cell_type": "code",
   "execution_count": 24,
   "metadata": {},
   "outputs": [
    {
     "name": "stdout",
     "output_type": "stream",
     "text": [
      "The best path found is: [0, 10, 29].\n",
      "The length of this path is 30.0.\n",
      "Actual shortest path: [0, 14, 29].\n",
      "The length of this path is : 8.0.\n",
      "\n",
      "The error is 22.0.\n"
     ]
    }
   ],
   "source": [
    "#############################################################\n",
    "##### Import packages\n",
    "#############################################################\n",
    "\n",
    "import numpy as np\n",
    "import networkx as nx\n",
    "\n",
    "#############################################################\n",
    "##### Set parameters\n",
    "#############################################################\n",
    "\n",
    "# Number of vertices\n",
    "n = 30\n",
    "\n",
    "# Source node\n",
    "s = 0\n",
    "\n",
    "# Terminal node\n",
    "t = n - 1\n",
    "\n",
    "# Number of parents\n",
    "# Should be even\n",
    "num_parents = 10\n",
    "\n",
    "# Number of generations\n",
    "num_gens = 50\n",
    "\n",
    "# Number of local improvements\n",
    "num_loc_improvement = 100\n",
    "\n",
    "# Generate distance matrix\n",
    "d = make_distance_matrix(n)\n",
    "\n",
    "#############################################################\n",
    "##### Define fitness function (compute_score)\n",
    "#############################################################\n",
    "\n",
    "def compute_score(path, d):\n",
    "    \"\"\"\n",
    "    Compute the fitness score of a path, i.e., its total length\n",
    "    \"\"\"\n",
    "    # Initialize score to 0\n",
    "    score = 0\n",
    "    \n",
    "    # Iterate through the path nodes\n",
    "    # Add the length of each edge to the score\n",
    "    for e in range(len(path) - 1):\n",
    "        score += d[path[e], path[e+1]]\n",
    "        \n",
    "    return score\n",
    "\n",
    "#############################################################\n",
    "##### Randomly generate a list of parents\n",
    "#############################################################\n",
    "\n",
    "# Each parent is a dictionary containing a path and its score.\n",
    "parents = generate_parents(num_parents, s, t, n, d)\n",
    "\n",
    "#############################################################\n",
    "##### Enter the main loop: loop over generations\n",
    "#############################################################\n",
    "\n",
    "for gen in range(num_gens): \n",
    "               \n",
    "    #############################################################\n",
    "    ##### Produce children\n",
    "    #############################################################\n",
    "        \n",
    "    # P5: Pair parents for mating\n",
    "    random_index = np.random.permutation(list(range(num_parents)))\n",
    "    pairs = []\n",
    "    for i in range(int(num_parents / 2)):\n",
    "        pairs.append([parents[random_index[2 * i]], parents[random_index[2 * i + 1]]])\n",
    "    \n",
    "    # P7: Mate each pair and store child\n",
    "    families = []\n",
    "    for [p0, p1] in pairs: \n",
    "        child = mate_parents(p0, p1, d)\n",
    "        families.append([p0, p1, child])\n",
    "        \n",
    "    #############################################################\n",
    "    ##### Locally improve children\n",
    "    #############################################################\n",
    "    \n",
    "    # P9: Locally improve each child\n",
    "    grown_families = []\n",
    "    for [p0, p1, child] in families: \n",
    "        adult = improve_child(child, num_loc_improvement, n, d)\n",
    "        grown_families.append([p0, p1, adult])\n",
    "   \n",
    "    #############################################################\n",
    "    ##### Each child tries to replace one of their parents\n",
    "    #############################################################\n",
    "    \n",
    "    # P10: Rebuild list of parents, possibly using some children  \n",
    "    parents = []\n",
    "    for [p0, p1, adult] in grown_families:\n",
    "        [new_p0, new_p1] = keep_low_two(p0, p1, adult)\n",
    "        parents.append(new_p0)\n",
    "        parents.append(new_p1)\n",
    "\n",
    "#############################################################\n",
    "##### End main loop\n",
    "#############################################################\n",
    "\n",
    "#############################################################\n",
    "##### Take fittest parent as our solution\n",
    "#############################################################\n",
    "\n",
    "best_parent = get_fittest_parent(parents)\n",
    "print(f\"The best path found is: {best_parent['path']}.\")\n",
    "print(f\"The length of this path is {best_parent['score']}.\")\n",
    "\n",
    "#############################################################\n",
    "##### Compare against the answer from NetworkX\n",
    "#############################################################\n",
    "\n",
    "# Define complete graph\n",
    "G = nx.complete_graph(n)\n",
    "\n",
    "# Define distances for graph\n",
    "for i in range(n):\n",
    "    for j in range(n):\n",
    "        if i != j:\n",
    "            G[i][j]['weight'] = d[i][j]\n",
    "        \n",
    "# Solve shortest path problem\n",
    "spath = nx.shortest_path(G, source=s, target=t, weight='weight')\n",
    "spath_length = nx.shortest_path_length(G, source=s, target=t, weight='weight')\n",
    "\n",
    "print(f'Actual shortest path: {spath}.')\n",
    "print(f'The length of this path is : {spath_length}.')\n",
    "\n",
    "#############################################################\n",
    "##### Write your code below: what is the error?\n",
    "#############################################################\n",
    "\n",
    "print(f\"\\nThe error is {best_parent['score'] - spath_length}.\")"
   ]
  },
  {
   "cell_type": "markdown",
   "metadata": {},
   "source": [
    "**Problem 15.**\n",
    "There is a lot that is unknown about genetic algorithms. For example: How should the various parameters be set? Which local and mating processes should be used? \n",
    "\n",
    "The answers to these questions are typically different for different problems. Can you find better parameter values to use for this problem? One might expect that using more generations or more local modifications or more parents will be better. However, limit yourself: adjust these parameters so that\n",
    "\n",
    "```\n",
    "num_parents * num_gens * num_loc_improvement <= 50000\n",
    "```"
   ]
  },
  {
   "cell_type": "code",
   "execution_count": 25,
   "metadata": {},
   "outputs": [],
   "source": [
    "# Play with the parameters and have fun!"
   ]
  },
  {
   "cell_type": "markdown",
   "metadata": {},
   "source": [
    "**Problem 16. (Variant of the Shortest Path Problem)**\n",
    "A variant of the shortest path problem involves a traveler planning a trip from city $s$ to city $t$. Here the vertices of the graph represent cities and the values in $d_{ij}$ represent distances. However, the traveler finds it difficult to leave each wonderful city he visits in his journey; so difficult that we multiply the $d_{ij}$ by 2 each time that he leaves a city. For instance, if $d_{01} = 5$, $d_{12} = 3$, and $d_{23} = 6$ then the $0$-$3$ path $0$-$1$-$2$-$3$ has score $5 + 2(3) + (2^2)6 = 35$. \n",
    "\n",
    "This problem cannot be solved using the standard shortest path algorithms (e.g. Dijkstra, Bellman-Ford), but it is fairly easy to modify your genetic algorithm above to find a heuristic solution. All you need to do is to modify your `compute_score` function! \n",
    "\n",
    "Make the correct modification and solve the problem for several randomly generated examples. Can you find an instance where the genetic algorithm's solution is better than the path proposed by NetworkX's `shortest_path` method (using the usual $d$ matrix for the distances), and the length of the path found is computed manually according to the new scoring rule for the above traveler?"
   ]
  },
  {
   "cell_type": "code",
   "execution_count": 26,
   "metadata": {},
   "outputs": [],
   "source": [
    "# Redefine the function compute_score as follows:\n",
    "def compute_score(path, d):\n",
    "    \"\"\"\n",
    "    Compute the fitness score of a path, its modified total length\n",
    "    \"\"\"\n",
    "    # Lengths are recorded in the matrix d\n",
    "    score = 0\n",
    "    multiplier = 0\n",
    "    for e in range(len(path) - 1):\n",
    "        score += (2 ** multiplier) * d[path[e], path[e + 1]]\n",
    "        multiplier += 1\n",
    "    return score "
   ]
  }
 ],
 "metadata": {
  "kernelspec": {
   "display_name": "Python 3",
   "language": "python",
   "name": "python3"
  },
  "language_info": {
   "codemirror_mode": {
    "name": "ipython",
    "version": 3
   },
   "file_extension": ".py",
   "mimetype": "text/x-python",
   "name": "python",
   "nbconvert_exporter": "python",
   "pygments_lexer": "ipython3",
   "version": "3.7.6"
  }
 },
 "nbformat": 4,
 "nbformat_minor": 2
}
