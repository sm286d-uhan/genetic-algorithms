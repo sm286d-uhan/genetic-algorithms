{
 "cells": [
  {
   "cell_type": "markdown",
   "metadata": {
    "hide_cell": true
   },
   "source": [
    "<span class='note'><i>Make me look good.</i> Click on the cell below and press <kbd>Ctrl</kbd>+<kbd>Enter</kbd>.</span>"
   ]
  },
  {
   "cell_type": "code",
   "execution_count": null,
   "metadata": {
    "hide_cell": true
   },
   "outputs": [],
   "source": [
    "from IPython.core.display import HTML\n",
    "HTML(open('css/custom.css', 'r').read())"
   ]
  },
  {
   "cell_type": "markdown",
   "metadata": {
    "hide_cell": true
   },
   "source": [
    "<h5 class='prehead'>SM286D &middot; Introduction to Applied Mathematics with Python &middot; Spring 2020 &middot; Uhan</h5>\n",
    "\n",
    "<h5 class='lesson'>Lesson 17.</h5>\n",
    "\n",
    "<h1 class='lesson_title'>Genetic algorithms with Python</h1>"
   ]
  },
  {
   "cell_type": "markdown",
   "metadata": {},
   "source": [
    "## This lesson..."
   ]
  },
  {
   "cell_type": "markdown",
   "metadata": {},
   "source": [
    "- Implementing a __genetic algorithm__ in Python."
   ]
  },
  {
   "cell_type": "markdown",
   "metadata": {},
   "source": [
    "---"
   ]
  },
  {
   "cell_type": "markdown",
   "metadata": {},
   "source": [
    "## What is a genetic algorithm?"
   ]
  },
  {
   "cell_type": "markdown",
   "metadata": {},
   "source": [
    "A __genetic algorithm (GA)__ is a type of algorithm for optimization problems, inspired by evolutionary biology. A GA tries to mimic the evolutionary process:\n",
    "\n",
    " - we start with a population of parents, \n",
    " - we mate certain parents to produce a child, \n",
    " - the child develops into a fully fledged adult, and \n",
    " - the child may replace a less fit parent in the collection of parents. \n",
    " - This process proceeds for many generations and ends with at least one very fit parent in the collection of parents. \n",
    "\n",
    "How does this work for an optimization problem? We want to find a solution that minimizes a certain objective function or __fitness function__. Each __parent__ will correspond to a solution to our optimization problem. The value of the fitness function for the parent is the parent's __score__. \n",
    "\n",
    "We start a generation by pairing up the parents. Each pair of parents will __mate__ to produce a new solution to our optimization problem, which we call a __child__. We \"grow\" the child into an adult by repeatedly modifying the child solution slightly and keeping the change if the child's score gets better. \n",
    "\n",
    "After a set number of such __local modifications__, we compare the child to its parents and replace one parent with the child if the child's score is better; otherwise we discard the child. A generation ends when each child has entered the parent pool or been discarded. We repeat the process for a set number of generations. \n",
    "\n",
    "This process involves many choices: we choose how the parent solutions combine to make a child input, we choose the fitness function, we choose the number of local modifications to the child, the types of local modifications allowed, the number of generations, and the number of parents. This approach is very flexible \n",
    "and not particularly tied to biology: one can incorporate or ignore the sex of parents, you could require three (or just one) parent to produce a child, etc. "
   ]
  },
  {
   "cell_type": "markdown",
   "metadata": {},
   "source": [
    "Note that in general, genetic algorithms are __heuristics__: they produce solutions that are only approximately optimal, usually without any guarantee of how close they are to optimal. This seems unsatsifying, but for very hard optimization problems, this might be the best we can do."
   ]
  },
  {
   "cell_type": "markdown",
   "metadata": {},
   "source": [
    "## The shortest path problem"
   ]
  },
  {
   "cell_type": "markdown",
   "metadata": {},
   "source": [
    "We're going to create a genetic algorithm that finds the shortest path between two particular vertices in a graph. We've chosen this problem because (1) it is relatively easy to understand and (2) there exist fast exact algorithms so we can assess the quality of the solutions produced by our genetic algorithm.\n",
    "\n",
    "We start with a graph $G$ with $n$ vertices or nodes. We assume that each vertex is connected to _all_ the other vertices by an edge.  This is known as a __complete graph__. \n",
    "\n",
    "The distances along each edge $(i,j)$ are stored in an $n \\times n$ matrix $d$. We assume that $d_{ii} = 0$ for all $i$: the distance \n",
    "from a vertex to itself is zero. In addition, we assume that $d_{ij} = d_{ji} > 0$ if $i\\neq j$: the distance for an edge is the same in both directions, and all distances between distinct nodes are positive. \n",
    "\n",
    "We fix a source node $s$ and a terminal node $t$. \n",
    "An __$s$-$t$ path__ is a sequence of vertices starting with the source node $s$ and ending at the terminal node $t$.\n",
    "The __total distance__ of an $s$-$t$ path is the sum of the distances along each edge in the path.\n",
    "We want to find the $s$-$t$ path with the lowest total distance."
   ]
  },
  {
   "cell_type": "markdown",
   "metadata": {},
   "source": [
    "## A genetic algorithm for the shortest path problem"
   ]
  },
  {
   "cell_type": "markdown",
   "metadata": {},
   "source": [
    "How can we set up a genetic algorithm for the shortest path problem?"
   ]
  },
  {
   "cell_type": "markdown",
   "metadata": {},
   "source": [
    "### The fitness function and population"
   ]
  },
  {
   "cell_type": "markdown",
   "metadata": {},
   "source": [
    "We define the fitness function to take as input an $s$-$t$ path, and return the total distance of the path. Each parent (and child) corresponds to an $s$-$t$ path and its score. We'll start with a population of, say, 10 parents, each representing randomly generated $s$-$t$ paths. "
   ]
  },
  {
   "cell_type": "markdown",
   "metadata": {},
   "source": [
    "### Mating"
   ]
  },
  {
   "cell_type": "markdown",
   "metadata": {},
   "source": [
    "In each generation, we'll form 5 pairs of parents, using every parent once. Given two parents, $P_0$ and $P_1$, we create a child in the following way. \n",
    "\n",
    "_Note._ We will often speak about parents and children as paths. This isn't strictly correct, because a parent or a child is both a path AND a score. We kindly ask for the reader's tolerance. 😊\n",
    "\n",
    "**Case A.**\n",
    "If $P_0$ and $P_1$ do not have a common vertex other than $s$ and $t$, then we randomly select a vertex $a$ in $P_0$ and a vertex $b$ in $P_1$. We form the child's path by joining the part of $P_0$ from $s$ to $a$, the edge $(a,b)$, and the part of $P_1$ from $b$ to $t$.\n",
    "\n",
    "\n",
    "**Case B.**\n",
    "If $P_0$ and $P_1$ have a common vertex other than $s$ and $t$, then let $x$ be the first vertex in $P_0$ that is in $P_1$. We form the child's path by doing one of the following: \n",
    "\n",
    "- join the part of the path $P_0$ from $s$ to $x$ with the part of the path $P_1$ from $x$ to $t$, or\n",
    "- join the part of the path $P_1$ from $s$ to $x$ with the part of the path $P_0$ from $x$ to $t$.\n",
    "\n",
    "We choose the path whose first part (up until $x$) has the smaller score. \n",
    "\n",
    "In both cases the new child's path may have loops. For instance if $s=0$ and $t=29$ we might produce a new child's path $0-5-6-9-5-9-19-29$. We remove the loop $5-6-9-5$ starting earliest in the path to get $0-5-9-19-29$. Note that this destroyed a second (entwined) loop $9-5-9$. In general, loops could remain in the resulting path. We continue to remove the earliest loops until none remain, producing our child's path. "
   ]
  },
  {
   "cell_type": "markdown",
   "metadata": {},
   "source": [
    "### Local modifications (a.k.a. \"growing up\")"
   ]
  },
  {
   "cell_type": "markdown",
   "metadata": {},
   "source": [
    "For local modifications on a child, we pick two vertices $a$ and $b$ on the child's path, such that $a$ appears earlier than $b$. Then we consider three new candidate paths:\n",
    "\n",
    "- the original child's path, \n",
    "- the path formed by joining\n",
    "    1. the part of the child's path from $s$ to $a$, \n",
    "    2. the edge $(a,b)$, and \n",
    "    3. the part of the child's path from $b$ to $t$, and \n",
    "- the path formed by removing loops from the path obtained by joining:\n",
    "    1. the part of the child's path from $s$ to $a$,\n",
    "    2. two edge path from $a$ to a random vertex $c$ to $b$ \n",
    "    3. the part of the child's path from $b$ to $t$. \n",
    "\n",
    "We replace the child's path with the candidate path whose score is lowest. This completes a single local modification of the child. We do a set number of such modifications, say, 100. "
   ]
  },
  {
   "cell_type": "markdown",
   "metadata": {},
   "source": [
    "### Survival of the fittest"
   ]
  },
  {
   "cell_type": "markdown",
   "metadata": {},
   "source": [
    "After each child grows up, they compete with their two parents. The two paths with the smallest scores remain in the mating pool and the path with the highest score is discarded. This completes a single generation. "
   ]
  },
  {
   "cell_type": "markdown",
   "metadata": {},
   "source": [
    "We repeat this entire process (pairing parents, mating to produce a child, local improvement of the child, and a fight-to-the-death elimination match pitting two parents against their child &mdash; hey, evolution isn't pretty!) over multiple generations, say, 50 times. Then we select the parent with the lowest score and use their path as our solution to the shortest path problem. "
   ]
  },
  {
   "cell_type": "markdown",
   "metadata": {},
   "source": [
    "### Is this algorithm good?"
   ]
  },
  {
   "cell_type": "markdown",
   "metadata": {},
   "source": [
    "Note that our algorithm involves randomization, so running it multiple times will likely produce different solutions. Our algorithm is also a heuristic: it need not produce the shortest path but rather produces the shortest path out of the few paths it considered. \n",
    "\n",
    "Using the algorithm above, we consider $10+5*3*100*50$ (=75010) $s$-$t$ paths without loops. That is a lot of paths but if $n=30$ there are more than $8.28 \\times 10^{29}$ $s$-$t$ paths, so we are only considering a  small subset of all paths. It is remarkable that this method often produces the best answer. \n",
    "\n",
    "We can check our answer using the `shortest_path` method in NetworkX, which solves the shortest path problem exactly. Exact algorithms for the shortest path problem, like Dijkstra's algorithm and the Bellman-Ford algorithm, are often taught in SA405 &mdash; Advanced Mathematical Programming.    "
   ]
  },
  {
   "cell_type": "markdown",
   "metadata": {},
   "source": [
    "## Classwork"
   ]
  },
  {
   "cell_type": "markdown",
   "metadata": {},
   "source": [
    "This lesson's classwork will walk you through implementing the genetic algorithm described above for the shortest path problem!"
   ]
  },
  {
   "cell_type": "markdown",
   "metadata": {},
   "source": [
    "Before starting the classwork, run the code cell below to import NumPy."
   ]
  },
  {
   "cell_type": "code",
   "execution_count": null,
   "metadata": {},
   "outputs": [],
   "source": [
    "import numpy as np"
   ]
  },
  {
   "cell_type": "markdown",
   "metadata": {},
   "source": [
    "**Problem 1.**\n",
    "Write a function `make_distance_matrix` that \n",
    "\n",
    "- takes as input a positive integer $n$, and \n",
    "- returns an $n \\times n$ symmetric matrix with \n",
    "    1. 0s for all diagonal entries and\n",
    "    2. randomly generated integers between 1 and 99 (inclusive) for all off-diagonal entries. \n",
    "\n",
    "_Hints._\n",
    "\n",
    "- Start with a $n \\times n$ matrix filled with zeros.\n",
    "- Use a nested `for` loop to go over rows with index $i = 0, 1, \\dots, n-1$ and columns with index $j = i + 1, \\dots, n - 1$. This will go over only the upper triangular entries of the matrix. Set $d_{ji} = d_{ij}$ so you end up with a symmetric matrix.\n",
    "- Use the NumPy method `np.random.randint()`: `np.random.randint(a, b)` generates a random integer between `a` and `b - 1` inclusive. "
   ]
  },
  {
   "cell_type": "code",
   "execution_count": null,
   "metadata": {},
   "outputs": [],
   "source": []
  },
  {
   "cell_type": "markdown",
   "metadata": {},
   "source": [
    "**Problem 2.**\n",
    "Run the code cell beow.\n",
    "\n",
    "The code sets some parameters, and calls your `make_distance_matrix` function from Problem 1 to create the matrix of distances between vertices in the graph."
   ]
  },
  {
   "cell_type": "code",
   "execution_count": null,
   "metadata": {},
   "outputs": [],
   "source": [
    "# Number of vertices\n",
    "n = 30\n",
    "\n",
    "# Source node\n",
    "s = 0\n",
    "\n",
    "# Terminal node\n",
    "t = n - 1\n",
    "\n",
    "# Number of parents\n",
    "# Should be even\n",
    "num_parents = 10\n",
    "\n",
    "# Number of generations\n",
    "num_gens = 50\n",
    "\n",
    "# Number of local improvements\n",
    "num_loc_improvement = 100\n",
    "\n",
    "# Generate distance matrix\n",
    "d = make_distance_matrix(n)\n",
    "\n",
    "# Print distance matrix to check our work\n",
    "print(d)"
   ]
  },
  {
   "cell_type": "markdown",
   "metadata": {},
   "source": [
    "**Problem 3.**\n",
    "Write a function `compute_score` that computes the total distance along a path.\n",
    "\n",
    "- The inputs to this function should be\n",
    "    1. a path starting at the source node ($s=0$) and ending at the terminal node ($t=29$) and \n",
    "    2. a distance matrix $d$.\n",
    "\n",
    "- The path should be represented by a list of nodes, e.g. `[0, 5, 8, 12, 29]`\n",
    "    \n",
    "- This function should return the distance from the source node to the terminal node."
   ]
  },
  {
   "cell_type": "code",
   "execution_count": null,
   "metadata": {},
   "outputs": [],
   "source": [
    "# Write your code below\n"
   ]
  },
  {
   "cell_type": "markdown",
   "metadata": {},
   "source": [
    "Check your function by running the code in the cell below.  If your function is correct, the code should output `True` to the screen."
   ]
  },
  {
   "cell_type": "code",
   "execution_count": null,
   "metadata": {},
   "outputs": [],
   "source": [
    "# Check your compute_score function by running the code in this cell\n",
    "compute_score([0, 5, 8, 12, 29], d) == d[0, 5] + d[5, 8] + d[8, 12] + d[12, 29]"
   ]
  },
  {
   "cell_type": "markdown",
   "metadata": {},
   "source": [
    "**Problem 4.**\n",
    "Next, we will generate a list of parents. The code below defines a function `generate_parents`. Read through the code to get a sense of what it does."
   ]
  },
  {
   "cell_type": "code",
   "execution_count": null,
   "metadata": {},
   "outputs": [],
   "source": [
    "def generate_parents(num_parents, s, t, num_nodes, d):\n",
    "    \"\"\"\n",
    "    Make a list of parents.\n",
    "    Each parent consists of (1) a path from s to t, and (2) its score\n",
    "    \"\"\"\n",
    "    # Initialize list of parents\n",
    "    parents = []\n",
    "    \n",
    "    for i in range(num_parents):\n",
    "        # Randomly generate a path p with the following steps\n",
    "        # 1. Create a list of all the nodes\n",
    "        nodes_except_s = list(range(num_nodes))\n",
    "        \n",
    "        # 2. Remove the source node from this list\n",
    "        nodes_except_s.remove(s)\n",
    "        \n",
    "        # 3. Randomly shuffle the nodes in this list\n",
    "        shuffled_nodes_except_s = list(np.random.permutation(nodes_except_s))\n",
    "        \n",
    "        # 4. Where does the terminal vertex appear in the shuffled list?\n",
    "        t_index = shuffled_nodes_except_s.index(t)\n",
    "        \n",
    "        # 5. Create a random path by starting at the source node s,\n",
    "        # continue with the nodes in the shuffled list, until we \n",
    "        # reach the terminal node t\n",
    "        # Note that the + operator concatenates lists\n",
    "        path = [s] + shuffled_nodes_except_s[:t_index + 1]\n",
    "        \n",
    "        # Compute the score of this random path\n",
    "        score = compute_score(path, d)\n",
    "        \n",
    "        # Append this newly generated parent to the list of parents\n",
    "        # Note that a parent is a dictionary\n",
    "        parents.append({'path': path, 'score': score})\n",
    "        \n",
    "    return parents"
   ]
  },
  {
   "cell_type": "markdown",
   "metadata": {},
   "source": [
    "In the next code cell, call the function `generate_parents`, and then print out a list of parents to the screen."
   ]
  },
  {
   "cell_type": "code",
   "execution_count": null,
   "metadata": {},
   "outputs": [],
   "source": [
    "# Write your code below\n"
   ]
  },
  {
   "cell_type": "markdown",
   "metadata": {},
   "source": [
    "**Problem 5.**\n",
    "Now we'll pair the parents for mating.\n",
    "\n",
    "- Write code that creates a list `pairs` consisting of `num_parents / 2` inner lists. Each inner list should contain two parents. \n",
    "- Each parent should appear in one and only one list. \n",
    "- Your pairings should be random; you don't want to keep mating the same pair of parents generation after generation.\n",
    "\n",
    "_Hint._ You might find the method `np.random.permutation()` useful. We used it in the definition of `generate_parents` in the previous problem. What does it do? Check the NumPy documentation if you're not sure."
   ]
  },
  {
   "cell_type": "code",
   "execution_count": null,
   "metadata": {},
   "outputs": [],
   "source": []
  },
  {
   "cell_type": "markdown",
   "metadata": {},
   "source": [
    "__Problem 6.__\n",
    "The code cell below defines the function `remove_loops`, which removes any loops in a path. Read through the code to get a sense of what it does."
   ]
  },
  {
   "cell_type": "code",
   "execution_count": null,
   "metadata": {},
   "outputs": [],
   "source": [
    "def remove_loops(p):\n",
    "    \"\"\"\n",
    "    Remove loops from a path\n",
    "    \"\"\"\n",
    "    \n",
    "    # Keep doing this loop while there are \n",
    "    # no duplicates in the path (list of nodes) p.\n",
    "    # The while condition uses the *set* data structure, which is\n",
    "    # like a list, but requires that its items are unique.\n",
    "    # list(set(x)) returns a list with all duplicates of x removed.\n",
    "    while len(list(set(p))) != len(p):\n",
    "        \n",
    "        for i in list(set(p)):\n",
    "            # Find the index of the first i \n",
    "            a = p.index(i) \n",
    "            \n",
    "            # Find the index of the last i\n",
    "            # Remember that p[::-1] is the list p, but in reverse order\n",
    "            b = len(p) - 1 - p[::-1].index(i)\n",
    "            \n",
    "            # If the indices of the first and last i are\n",
    "            # not the same, then we have a loop!\n",
    "            if a != b:\n",
    "                # Remove the vertices of the loop\n",
    "                p = p[0: a + 1] + p[b + 1:]\n",
    "                break\n",
    "                \n",
    "    return p"
   ]
  },
  {
   "cell_type": "markdown",
   "metadata": {},
   "source": [
    "Try it out:"
   ]
  },
  {
   "cell_type": "code",
   "execution_count": null,
   "metadata": {},
   "outputs": [],
   "source": [
    "remove_loops([0, 1, 2, 3, 5, 6, 3, 8, 5, 28, 21, 17, 29])"
   ]
  },
  {
   "cell_type": "markdown",
   "metadata": {},
   "source": [
    "You should get `[0, 1, 2, 3, 8, 5, 28, 21, 17, 29]` as output.\n",
    "\n",
    "Note that when we remove the loop starting at 3, the loop starting at 5 disappears! Removing the loop starting at 5 would kill the loop starting at 3 too. It isn't clear which is preferable. We just get a loopless path and call it a day."
   ]
  },
  {
   "cell_type": "markdown",
   "metadata": {},
   "source": [
    "The function `remove_loops` is called in the function `mate_parents`, which is defined in the code cell below. The function `mate_parents` takes as input two parents and the distance matrix $d$. Read through the code for `mate_parents` to get a sense of what it does."
   ]
  },
  {
   "cell_type": "code",
   "execution_count": null,
   "metadata": {},
   "outputs": [],
   "source": [
    "def mate_parents(p0, p1, d):\n",
    "    \"\"\"\n",
    "    Produce a child by \"mating\" two parents p0 and p1\n",
    "    \"\"\"\n",
    "    # Find the first vertex x after s in p0 that is in p1.\n",
    "    # Such a vertex exists, since the terminal node t is in both p0 and p1.\n",
    "    # (In this case, the loop below would go through all values of i.)\n",
    "    for i in range(1, len(p0['path'])):\n",
    "        if p0['path'][i] in p1['path']:\n",
    "            break\n",
    "            \n",
    "    # After the loop above, i is the index of x in p0\n",
    "    x = p0['path'][i]\n",
    "        \n",
    "    # CASE A: x = t\n",
    "    # Select vertex a in p0 and vertex b in p1. \n",
    "    # Child = [s,...,a] in p0 + edge [a,b] + [b,...,t] in p1. \n",
    "    if x == p0['path'][-1]:\n",
    "        \n",
    "        # CASE A.1: both p0 and p1 have AT LEAST \n",
    "        # one vertex other than s and t in their paths\n",
    "        # (i.e., they both have length > 2)\n",
    "        if len(p0['path']) > 2 and len(p1['path']) > 2:\n",
    "            # Randomly select vertex a in p0 by choosing a random index\n",
    "            # (excluding the 0th and last indices, since they correspond\n",
    "            # to s and t)\n",
    "            a_index = np.random.randint(1, len(p0['path']) - 1)\n",
    "            \n",
    "            # Randomly select vertex b in p1 by choosing a random index\n",
    "            b_index = np.random.randint(1, len(p1['path']) - 1)\n",
    "            \n",
    "            # Create child path: [s,...a] in p0 + [b,...,t] in p1\n",
    "            child_path = p0['path'][:a_index + 1] + p1['path'][b_index:]\n",
    "        \n",
    "        # CASE A.2: p0 has at least one vertex other than s and t in its path,\n",
    "        # but p1 has only s and t in its path\n",
    "        if len(p0['path']) > 2 and len(p1['path']) == 2:\n",
    "            # Randomly select vertex a in p0 by choosing a random index\n",
    "            a_index = np.random.randint(1, len(p0['path']) - 1)\n",
    "            \n",
    "            # Select the terminal node from p1\n",
    "            b_index = p1['path'][-1]\n",
    "            \n",
    "            # Create child path: [s,...,a] in p0 + [t]\n",
    "            child_path = p0['path'][:a_index + 1] + p1['path'][b_index:]\n",
    "        \n",
    "        # CASE A.3: p0 has only s and t in its path,\n",
    "        # but p1 has at least one vertex other than s and t in its path\n",
    "        if len(p0['path']) == 2 and len(p1['path']) > 2:\n",
    "            # Select the source node from p0\n",
    "            a_index = p0['path'][0]\n",
    "            \n",
    "            # Randomly select vertex b in p1 by choosing a random index\n",
    "            b_index = np.random.randint(1, len(p1['path']) - 1)\n",
    "            \n",
    "            # Create child path: [s] + [b,...,t] in p1\n",
    "            child_path = p0['path'][:a_index + 1] + p1['path'][b_index:]\n",
    "        \n",
    "        # CASE A.4: p0 and p1 BOTH only have s and t in their paths\n",
    "        else:\n",
    "            # Set the child path to [s, t]\n",
    "            child_path = p0['path']\n",
    "        \n",
    "    \n",
    "    # CASE B: x != t\n",
    "    # Select shorter of [s,...,x] on p0 and [s,...,x] on p1.\n",
    "    # Add [x,...,t] from the other path.  \n",
    "    else:\n",
    "        # Find index of x in p1\n",
    "        j = p1['path'].index(x)\n",
    "        \n",
    "        # Find the shorter [s,...,x]\n",
    "        # Add [x,...,t] from the other path\n",
    "        if compute_score(p0['path'][:i + 1], d) <= compute_score(p1['path'][:j + 1], d):\n",
    "            child_path = p0['path'][:i + 1] + p1['path'][j + 1:]\n",
    "        else: \n",
    "            child_path = p1['path'][:j + 1] + p0['path'][i + 1:]\n",
    "            \n",
    "    # Remove loops in the child path\n",
    "    child_path = remove_loops(child_path)\n",
    "    \n",
    "    # Get child's score\n",
    "    child_score = compute_score(child_path, d)\n",
    "    \n",
    "    # Return child\n",
    "    child = {'path': child_path, 'score': child_score}\n",
    "    return child"
   ]
  },
  {
   "cell_type": "markdown",
   "metadata": {},
   "source": [
    "When looking at new code, it is a good idea to try to see what the code does to some sample input. The code below defines 3 parents, `parent0`, `parent1`, and `parent2`. \n",
    "\n",
    "Mate `parent0` and `parent1` to produce a child. Go line by line through the code for `mate_parents` above and predict what the function does. Then run the code to see if the child you predicted was correct.\n",
    "\n",
    "Do the same with `parent0` and `parent2`. Here the function will return an answer with some randomness. What is different in this case? Why can't we confidently predict the path of the child?"
   ]
  },
  {
   "cell_type": "code",
   "execution_count": null,
   "metadata": {},
   "outputs": [],
   "source": [
    "# Define parents for testing\n",
    "parent0_path = [0, 5, 8, 12, 21, 29]\n",
    "parent0_score = compute_score(parent0_path, d)\n",
    "parent0 = {'path': parent0_path, 'score': parent0_score}\n",
    "\n",
    "parent1_path = [0, 2, 8, 10, 15, 29]\n",
    "parent1_score = compute_score(parent1_path, d)\n",
    "parent1 = {'path': parent1_path, 'score': parent1_score}\n",
    "\n",
    "parent2_path = [0, 7, 18, 29]\n",
    "parent2_score = compute_score(parent2_path, d)\n",
    "parent2 = {'path': parent2_path, 'score': parent2_score}\n",
    "\n",
    "# Write your testing code below\n"
   ]
  },
  {
   "cell_type": "markdown",
   "metadata": {},
   "source": [
    "**Problem 7.**\n",
    "Run the code below to produce a list `families` consisting of inner lists, each with 3 items: the first two items are paired parents and the third is their child."
   ]
  },
  {
   "cell_type": "code",
   "execution_count": null,
   "metadata": {},
   "outputs": [],
   "source": [
    "# Mate each pair and store child in family next to its parents\n",
    "families = []\n",
    "for [p0, p1] in pairs: \n",
    "    child = mate_parents(p0, p1, d)\n",
    "    families.append([p0, p1, child])\n",
    "    \n",
    "# Check our work\n",
    "print(families)"
   ]
  },
  {
   "cell_type": "markdown",
   "metadata": {},
   "source": [
    "**Problem 8.**\n",
    "The function `improve_child` is defined in the code cell below. It applies the local improvement process to a child. Read through the code to get a sense of what it does."
   ]
  },
  {
   "cell_type": "code",
   "execution_count": null,
   "metadata": {},
   "outputs": [],
   "source": [
    "def improve_child(child, num_loc_improvement, n, d):\n",
    "    \"\"\"\n",
    "    Locally improve child\n",
    "    \"\"\"\n",
    "    # Local improvement on child's path p\n",
    "    # \n",
    "    # 1. Randomly pick two vertices on path p: a and b\n",
    "    #    - Vertex a should be before vertex b in path p\n",
    "    # 2. Compare three candidate paths: \n",
    "    #    - original p, \n",
    "    #    - [s,...,a] on p + edge [a,b] + [b,...,t] on p, \n",
    "    #    - [s,...,a] on p + random vertex c + [b,...,t] on p, after removing loops. \n",
    "    # 3. Pick the best of these paths.\n",
    "    # 4. Do this for num_loc_improvement iterations.\n",
    "    \n",
    "    for k in range(num_loc_improvement):\n",
    "        child_path = child['path']\n",
    "        \n",
    "        a_index = np.random.randint(0, len(child_path) - 1)\n",
    "        b_index = np.random.randint(a_index + 1, len(child_path))\n",
    "        \n",
    "        # Define and score first alternate path\n",
    "        alt1_path = child_path[:a_index + 1] + child_path[b_index:]\n",
    "        alt1_score = compute_score(alt1_path, d)\n",
    "        alt1 = {'path': alt1_path, 'score': alt1_score}\n",
    "        \n",
    "        # Define and score second alternate path\n",
    "        s = child_path[0]\n",
    "        t = child_path[-1]\n",
    "        a = child_path[a_index]\n",
    "        b = child_path[b_index]\n",
    "\n",
    "        # Choose a random vertex c, which cannot be s, t, a, or b\n",
    "        found = False\n",
    "        while not found:\n",
    "            c = np.random.randint(0, n)\n",
    "            if c not in [s, t, a, b]:\n",
    "                found = True\n",
    "\n",
    "        alt2_path = remove_loops(child_path[:a_index + 1] + [c] + child_path[b_index:])\n",
    "        alt2_score = compute_score(alt2_path, d)\n",
    "        alt2 = {'path': alt2_path, 'score': alt2_score}\n",
    "        \n",
    "        # Decide which path is best (lowest score)\n",
    "        # Create list of candidates\n",
    "        candidates = [child, alt1, alt2]\n",
    "        \n",
    "        # Initialize minimum score\n",
    "        min_score = float(\"inf\")\n",
    "        \n",
    "        # Initialize placeholder for candidate with minimum score\n",
    "        min_cand = None\n",
    "        \n",
    "        for cand in candidates:\n",
    "            if cand['score'] < float(\"inf\"):\n",
    "                min_score = cand['score']\n",
    "                min_cand = cand\n",
    "\n",
    "        # Update child to best path\n",
    "        child = min_cand\n",
    "        \n",
    "    return child"
   ]
  },
  {
   "cell_type": "markdown",
   "metadata": {},
   "source": [
    "The code below defines a child. Predict what will happen to the child after the first iteration of the `for` loop in `improve_child` above.\n",
    "\n",
    "Then, run `improve_child` on `child`. Note that there are many random choices made by `improve_child`, and `improve_child` will perform many local improvements (`num_local_improvements = 100` from above)."
   ]
  },
  {
   "cell_type": "code",
   "execution_count": null,
   "metadata": {},
   "outputs": [],
   "source": [
    "child_path = [0, 5, 8, 14, 16, 19, 23, 27, 29]\n",
    "child_score = compute_score(child_path, d)\n",
    "child = {'path': child_path, 'score': child_score}\n",
    "\n",
    "# Write your code below\n"
   ]
  },
  {
   "cell_type": "markdown",
   "metadata": {},
   "source": [
    "**Problem 9.**\n",
    "Run the code below to produce a list `grown_families` of inner lists, each consisting of two paired parents and their improved \"adult\" child."
   ]
  },
  {
   "cell_type": "code",
   "execution_count": null,
   "metadata": {},
   "outputs": [],
   "source": [
    "# Locally improve each child and store result with parents\n",
    "# in the list grown_families\n",
    "grown_families = []\n",
    "for [p0, p1, child] in families: \n",
    "    adult = improve_child(child, num_loc_improvement, n, d)\n",
    "    grown_families.append([p0, p1, adult])"
   ]
  },
  {
   "cell_type": "markdown",
   "metadata": {},
   "source": [
    "**Problem 10.**\n",
    "The code cell below defines the function `keep_low_two`. What do you think this function does? \n",
    "\n",
    "In particular, what does the keyword argument `key=lambda member: member['score']` do for the `sorted` function? [Here's the documentation on `sorted`](https://docs.python.org/3.7/howto/sorting.html) - take a look at the \"Key Functions\" section."
   ]
  },
  {
   "cell_type": "code",
   "execution_count": null,
   "metadata": {},
   "outputs": [],
   "source": [
    "def keep_low_two(p0, p1, child):\n",
    "    family = [p0, p1, child]\n",
    "    sorted_family = sorted(family, key=lambda member: member['score'])\n",
    "    \n",
    "    return [sorted_family[0], sorted_family[1]]\n",
    "\n",
    "# keep_low_two takes as input 3 individuals (dictionaries with paths and their \n",
    "# scores) and then returns a list of the two individuals with lowest scores."
   ]
  },
  {
   "cell_type": "markdown",
   "metadata": {},
   "source": [
    "Use the code below to rebuild the `parents` list, replacing some parents with their adult children, as appropriate. "
   ]
  },
  {
   "cell_type": "code",
   "execution_count": null,
   "metadata": {},
   "outputs": [],
   "source": [
    "# Rebuild list of parents, possibly using some children  \n",
    "parents = []\n",
    "for [p0, p1, adult] in grown_families:\n",
    "    [new_p0, new_p1] = keep_low_two(p0, p1, adult)\n",
    "    parents.append(new_p0)\n",
    "    parents.append(new_p1)"
   ]
  },
  {
   "cell_type": "markdown",
   "metadata": {},
   "source": [
    "**Problem 11.**\n",
    "The code from Problems 5, 7, 9 and 10 runs a single generation of our genetic algorithm. Take all this code and put it inside a loop that runs the code `num_gens` times. Omit any print statements used to check your work; otherwise, your output will get messy fast!"
   ]
  },
  {
   "cell_type": "code",
   "execution_count": null,
   "metadata": {
    "run_control": {
     "marked": false
    }
   },
   "outputs": [],
   "source": []
  },
  {
   "cell_type": "markdown",
   "metadata": {},
   "source": [
    "**Problem 12.**\n",
    "After running the code that we have so far, we should have a list of very fit parents, constructed and improved over multiple generations. \n",
    "\n",
    "The code cell below defines the function `get_fittest_parent` below. Read the function to get a sense of what it does."
   ]
  },
  {
   "cell_type": "code",
   "execution_count": null,
   "metadata": {},
   "outputs": [],
   "source": [
    "def get_fittest_parent(parents):\n",
    "    \"\"\"\n",
    "    Gets the fittest parent from a list of parents\n",
    "    \"\"\"\n",
    "    # Sort the parents, using their score as the key\n",
    "    # We use the same technique as in Problem 10\n",
    "    sorted_parents = sorted(parents, key=lambda parent: parent['score'])\n",
    "\n",
    "    # Return parent with lowest\n",
    "    return sorted_parents[0]"
   ]
  },
  {
   "cell_type": "markdown",
   "metadata": {},
   "source": [
    "Write code that finds the parent with the lowest score and prints that parent's path and score to the screen."
   ]
  },
  {
   "cell_type": "code",
   "execution_count": null,
   "metadata": {},
   "outputs": [],
   "source": [
    "# Write your code below\n"
   ]
  },
  {
   "cell_type": "markdown",
   "metadata": {},
   "source": [
    "**Problem 13.**\n",
    "NetworkX has methods that efficiently solve shortest path problems. Note that the solution we obtained above using our genetic algorithm is heuristic (i.e., approximately optimal), while NetworkX's methods are exact (i.e. produces solutions that are guaranteed to be optimal). \n",
    "\n",
    "Let's compare our answer against the correct answer. Use the following code to solve the shortest path problem using NetworkX.  "
   ]
  },
  {
   "cell_type": "code",
   "execution_count": null,
   "metadata": {},
   "outputs": [],
   "source": [
    "import networkx as nx\n",
    "\n",
    "# Define complete graph\n",
    "G = nx.complete_graph(n)\n",
    "\n",
    "# Define distances for graph\n",
    "for i in range(n):\n",
    "    for j in range(n):\n",
    "        if i != j:\n",
    "            G[i][j]['weight'] = d[i][j]\n",
    "        \n",
    "# Solve shortest path problem\n",
    "spath = nx.shortest_path(G, source=s, target=t, weight='weight')\n",
    "spath_length = nx.shortest_path_length(G, source=s, target=t, weight='weight')\n",
    "\n",
    "print(f'Actual shortest path: {spath}.')\n",
    "print(f'The length of this path is : {spath_length}.')"
   ]
  },
  {
   "cell_type": "markdown",
   "metadata": {},
   "source": [
    "**Problem 14.**\n",
    "The code cell below contains a nicely organized version of the genetic algorithm that we've contructed above. Run this code or your own several times and see how often the genetic algorithm obtains an optimal solution. When it misses the correct solution, how badly does it miss? Report the error as \n",
    "\n",
    "$$\n",
    "\\text{error} = \\text{genetic algorithm's score} - \\text{actual minimum score}.\n",
    "$$\n",
    "\n",
    "What is the highest error that you observe?"
   ]
  },
  {
   "cell_type": "code",
   "execution_count": null,
   "metadata": {},
   "outputs": [],
   "source": [
    "#############################################################\n",
    "##### Import packages\n",
    "#############################################################\n",
    "\n",
    "import numpy as np\n",
    "import networkx as nx\n",
    "\n",
    "#############################################################\n",
    "##### Set parameters\n",
    "#############################################################\n",
    "\n",
    "# Number of vertices\n",
    "n = 30\n",
    "\n",
    "# Source node\n",
    "s = 0\n",
    "\n",
    "# Terminal node\n",
    "t = n - 1\n",
    "\n",
    "# Number of parents\n",
    "# Should be even\n",
    "num_parents = 10\n",
    "\n",
    "# Number of generations\n",
    "num_gens = 50\n",
    "\n",
    "# Number of local improvements\n",
    "num_loc_improvement = 100\n",
    "\n",
    "# Generate distance matrix\n",
    "d = make_distance_matrix(n)\n",
    "\n",
    "#############################################################\n",
    "##### Define fitness function (compute_score)\n",
    "#############################################################\n",
    "\n",
    "def compute_score(path, d):\n",
    "    \"\"\"\n",
    "    Compute the fitness score of a path, i.e., its total length\n",
    "    \"\"\"\n",
    "    # Initialize score to 0\n",
    "    score = 0\n",
    "    \n",
    "    # Iterate through the path nodes\n",
    "    # Add the length of each edge to the score\n",
    "    for e in range(len(path) - 1):\n",
    "        score += d[path[e], path[e+1]]\n",
    "        \n",
    "    return score\n",
    "\n",
    "#############################################################\n",
    "##### Randomly generate a list of parents\n",
    "#############################################################\n",
    "\n",
    "# Each parent is a dictionary containing a path and its score.\n",
    "parents = generate_parents(num_parents, s, t, n, d)\n",
    "\n",
    "#############################################################\n",
    "##### Enter the main loop: loop over generations\n",
    "#############################################################\n",
    "\n",
    "for gen in range(num_gens): \n",
    "               \n",
    "    #############################################################\n",
    "    ##### Produce children\n",
    "    #############################################################\n",
    "        \n",
    "    # P5: Pair parents for mating\n",
    "    random_index = np.random.permutation(list(range(num_parents)))\n",
    "    pairs = []\n",
    "    for i in range(int(num_parents / 2)):\n",
    "        pairs.append([parents[random_index[2 * i]], parents[random_index[2 * i + 1]]])\n",
    "    \n",
    "    # P7: Mate each pair and store child\n",
    "    families = []\n",
    "    for [p0, p1] in pairs: \n",
    "        child = mate_parents(p0, p1, d)\n",
    "        families.append([p0, p1, child])\n",
    "        \n",
    "    #############################################################\n",
    "    ##### Locally improve children\n",
    "    #############################################################\n",
    "    \n",
    "    # P9: Locally improve each child\n",
    "    grown_families = []\n",
    "    for [p0, p1, child] in families: \n",
    "        adult = improve_child(child, num_loc_improvement, n, d)\n",
    "        grown_families.append([p0, p1, adult])\n",
    "   \n",
    "    #############################################################\n",
    "    ##### Each child tries to replace one of their parents\n",
    "    #############################################################\n",
    "    \n",
    "    # P10: Rebuild list of parents, possibly using some children  \n",
    "    parents = []\n",
    "    for [p0, p1, adult] in grown_families:\n",
    "        [new_p0, new_p1] = keep_low_two(p0, p1, adult)\n",
    "        parents.append(new_p0)\n",
    "        parents.append(new_p1)\n",
    "\n",
    "#############################################################\n",
    "##### End main loop\n",
    "#############################################################\n",
    "\n",
    "#############################################################\n",
    "##### Take fittest parent as our solution\n",
    "#############################################################\n",
    "\n",
    "best_parent = get_fittest_parent(parents)\n",
    "print(f\"The best path found is: {best_parent['path']}.\")\n",
    "print(f\"The length of this path is {best_parent['score']}.\")\n",
    "\n",
    "#############################################################\n",
    "##### Compare against the answer from NetworkX\n",
    "#############################################################\n",
    "\n",
    "# Define complete graph\n",
    "G = nx.complete_graph(n)\n",
    "\n",
    "# Define distances for graph\n",
    "for i in range(n):\n",
    "    for j in range(n):\n",
    "        if i != j:\n",
    "            G[i][j]['weight'] = d[i][j]\n",
    "        \n",
    "# Solve shortest path problem\n",
    "spath = nx.shortest_path(G, source=s, target=t, weight='weight')\n",
    "spath_length = nx.shortest_path_length(G, source=s, target=t, weight='weight')\n",
    "\n",
    "print(f'Actual shortest path: {spath}.')\n",
    "print(f'The length of this path is : {spath_length}.')\n",
    "\n",
    "#############################################################\n",
    "##### Write your code below: what is the error?\n",
    "#############################################################\n",
    "\n",
    "print(f\"\\nThe error is {best_parent['score'] - spath_length}.\")"
   ]
  },
  {
   "cell_type": "markdown",
   "metadata": {},
   "source": [
    "**Problem 15.**\n",
    "There is a lot that is unknown about genetic algorithms. For example: How should the various parameters be set? Which local and mating processes should be used? \n",
    "\n",
    "The answers to these questions are typically different for different problems. Can you find better parameter values to use for this problem? One might expect that using more generations or more local modifications or more parents will be better. However, limit yourself: adjust these parameters so that\n",
    "\n",
    "```\n",
    "num_parents * num_gens * num_loc_improvement <= 50000\n",
    "```"
   ]
  },
  {
   "cell_type": "code",
   "execution_count": null,
   "metadata": {},
   "outputs": [],
   "source": []
  },
  {
   "cell_type": "markdown",
   "metadata": {},
   "source": [
    "**Problem 16. (Variant of the Shortest Path Problem)**\n",
    "A variant of the shortest path problem involves a traveler planning a trip from city $s$ to city $t$. Here the vertices of the graph represent cities and the values in $d_{ij}$ represent distances. However, the traveler finds it difficult to leave each wonderful city he visits in his journey; so difficult that we multiply the $d_{ij}$ by 2 each time that he leaves a city. For instance, if $d_{01} = 5$, $d_{12} = 3$, and $d_{23} = 6$ then the $0$-$3$ path $0$-$1$-$2$-$3$ has score $5 + 2(3) + (2^2)6 = 35$. \n",
    "\n",
    "This problem cannot be solved using the standard shortest path algorithms (e.g. Dijkstra, Bellman-Ford), but it is fairly easy to modify your genetic algorithm above to find a heuristic solution. All you need to do is to modify your `compute_score` function! \n",
    "\n",
    "Make the correct modification and solve the problem for several randomly generated examples. Can you find an instance where the genetic algorithm's solution is better than the path proposed by NetworkX's `shortest_path` method (using the usual $d$ matrix for the distances), and the length of the path found is computed manually according to the new scoring rule for the above traveler?"
   ]
  },
  {
   "cell_type": "code",
   "execution_count": null,
   "metadata": {},
   "outputs": [],
   "source": []
  }
 ],
 "metadata": {
  "kernelspec": {
   "display_name": "Python 3",
   "language": "python",
   "name": "python3"
  },
  "language_info": {
   "codemirror_mode": {
    "name": "ipython",
    "version": 3
   },
   "file_extension": ".py",
   "mimetype": "text/x-python",
   "name": "python",
   "nbconvert_exporter": "python",
   "pygments_lexer": "ipython3",
   "version": "3.7.6"
  }
 },
 "nbformat": 4,
 "nbformat_minor": 2
}
